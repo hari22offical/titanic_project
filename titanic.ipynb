{
 "cells": [
  {
   "cell_type": "code",
   "execution_count": 1,
   "id": "cc485364",
   "metadata": {
    "execution": {
     "iopub.execute_input": "2022-12-30T08:28:45.409308Z",
     "iopub.status.busy": "2022-12-30T08:28:45.408665Z",
     "iopub.status.idle": "2022-12-30T08:28:46.480130Z",
     "shell.execute_reply": "2022-12-30T08:28:46.479028Z"
    },
    "papermill": {
     "duration": 1.094427,
     "end_time": "2022-12-30T08:28:46.482823",
     "exception": false,
     "start_time": "2022-12-30T08:28:45.388396",
     "status": "completed"
    },
    "tags": []
   },
   "outputs": [],
   "source": [
    "import numpy as np\n",
    "import pandas as pd\n",
    "import matplotlib.pyplot as plt\n",
    "import seaborn as sns"
   ]
  },
  {
   "cell_type": "code",
   "execution_count": 2,
   "id": "d75ae23c",
   "metadata": {
    "execution": {
     "iopub.execute_input": "2022-12-30T08:28:46.519088Z",
     "iopub.status.busy": "2022-12-30T08:28:46.518639Z",
     "iopub.status.idle": "2022-12-30T08:28:46.561447Z",
     "shell.execute_reply": "2022-12-30T08:28:46.560365Z"
    },
    "papermill": {
     "duration": 0.063916,
     "end_time": "2022-12-30T08:28:46.563991",
     "exception": false,
     "start_time": "2022-12-30T08:28:46.500075",
     "status": "completed"
    },
    "tags": []
   },
   "outputs": [
    {
     "data": {
      "text/html": [
       "<div>\n",
       "<style scoped>\n",
       "    .dataframe tbody tr th:only-of-type {\n",
       "        vertical-align: middle;\n",
       "    }\n",
       "\n",
       "    .dataframe tbody tr th {\n",
       "        vertical-align: top;\n",
       "    }\n",
       "\n",
       "    .dataframe thead th {\n",
       "        text-align: right;\n",
       "    }\n",
       "</style>\n",
       "<table border=\"1\" class=\"dataframe\">\n",
       "  <thead>\n",
       "    <tr style=\"text-align: right;\">\n",
       "      <th></th>\n",
       "      <th>PassengerId</th>\n",
       "      <th>Survived</th>\n",
       "      <th>Pclass</th>\n",
       "      <th>Name</th>\n",
       "      <th>Sex</th>\n",
       "      <th>Age</th>\n",
       "      <th>SibSp</th>\n",
       "      <th>Parch</th>\n",
       "      <th>Ticket</th>\n",
       "      <th>Fare</th>\n",
       "      <th>Cabin</th>\n",
       "      <th>Embarked</th>\n",
       "    </tr>\n",
       "  </thead>\n",
       "  <tbody>\n",
       "    <tr>\n",
       "      <th>0</th>\n",
       "      <td>1</td>\n",
       "      <td>0</td>\n",
       "      <td>3</td>\n",
       "      <td>Braund, Mr. Owen Harris</td>\n",
       "      <td>male</td>\n",
       "      <td>22.0</td>\n",
       "      <td>1</td>\n",
       "      <td>0</td>\n",
       "      <td>A/5 21171</td>\n",
       "      <td>7.2500</td>\n",
       "      <td>NaN</td>\n",
       "      <td>S</td>\n",
       "    </tr>\n",
       "    <tr>\n",
       "      <th>1</th>\n",
       "      <td>2</td>\n",
       "      <td>1</td>\n",
       "      <td>1</td>\n",
       "      <td>Cumings, Mrs. John Bradley (Florence Briggs Th...</td>\n",
       "      <td>female</td>\n",
       "      <td>38.0</td>\n",
       "      <td>1</td>\n",
       "      <td>0</td>\n",
       "      <td>PC 17599</td>\n",
       "      <td>71.2833</td>\n",
       "      <td>C85</td>\n",
       "      <td>C</td>\n",
       "    </tr>\n",
       "    <tr>\n",
       "      <th>2</th>\n",
       "      <td>3</td>\n",
       "      <td>1</td>\n",
       "      <td>3</td>\n",
       "      <td>Heikkinen, Miss. Laina</td>\n",
       "      <td>female</td>\n",
       "      <td>26.0</td>\n",
       "      <td>0</td>\n",
       "      <td>0</td>\n",
       "      <td>STON/O2. 3101282</td>\n",
       "      <td>7.9250</td>\n",
       "      <td>NaN</td>\n",
       "      <td>S</td>\n",
       "    </tr>\n",
       "    <tr>\n",
       "      <th>3</th>\n",
       "      <td>4</td>\n",
       "      <td>1</td>\n",
       "      <td>1</td>\n",
       "      <td>Futrelle, Mrs. Jacques Heath (Lily May Peel)</td>\n",
       "      <td>female</td>\n",
       "      <td>35.0</td>\n",
       "      <td>1</td>\n",
       "      <td>0</td>\n",
       "      <td>113803</td>\n",
       "      <td>53.1000</td>\n",
       "      <td>C123</td>\n",
       "      <td>S</td>\n",
       "    </tr>\n",
       "    <tr>\n",
       "      <th>4</th>\n",
       "      <td>5</td>\n",
       "      <td>0</td>\n",
       "      <td>3</td>\n",
       "      <td>Allen, Mr. William Henry</td>\n",
       "      <td>male</td>\n",
       "      <td>35.0</td>\n",
       "      <td>0</td>\n",
       "      <td>0</td>\n",
       "      <td>373450</td>\n",
       "      <td>8.0500</td>\n",
       "      <td>NaN</td>\n",
       "      <td>S</td>\n",
       "    </tr>\n",
       "  </tbody>\n",
       "</table>\n",
       "</div>"
      ],
      "text/plain": [
       "   PassengerId  Survived  Pclass  \\\n",
       "0            1         0       3   \n",
       "1            2         1       1   \n",
       "2            3         1       3   \n",
       "3            4         1       1   \n",
       "4            5         0       3   \n",
       "\n",
       "                                                Name     Sex   Age  SibSp  \\\n",
       "0                            Braund, Mr. Owen Harris    male  22.0      1   \n",
       "1  Cumings, Mrs. John Bradley (Florence Briggs Th...  female  38.0      1   \n",
       "2                             Heikkinen, Miss. Laina  female  26.0      0   \n",
       "3       Futrelle, Mrs. Jacques Heath (Lily May Peel)  female  35.0      1   \n",
       "4                           Allen, Mr. William Henry    male  35.0      0   \n",
       "\n",
       "   Parch            Ticket     Fare Cabin Embarked  \n",
       "0      0         A/5 21171   7.2500   NaN        S  \n",
       "1      0          PC 17599  71.2833   C85        C  \n",
       "2      0  STON/O2. 3101282   7.9250   NaN        S  \n",
       "3      0            113803  53.1000  C123        S  \n",
       "4      0            373450   8.0500   NaN        S  "
      ]
     },
     "execution_count": 2,
     "metadata": {},
     "output_type": "execute_result"
    }
   ],
   "source": [
    "df1=pd.read_csv('/kaggle/input/titanic/train.csv')\n",
    "df1.head()"
   ]
  },
  {
   "cell_type": "code",
   "execution_count": 3,
   "id": "f56fab04",
   "metadata": {
    "execution": {
     "iopub.execute_input": "2022-12-30T08:28:46.601001Z",
     "iopub.status.busy": "2022-12-30T08:28:46.599874Z",
     "iopub.status.idle": "2022-12-30T08:28:46.606893Z",
     "shell.execute_reply": "2022-12-30T08:28:46.605885Z"
    },
    "papermill": {
     "duration": 0.027602,
     "end_time": "2022-12-30T08:28:46.609262",
     "exception": false,
     "start_time": "2022-12-30T08:28:46.581660",
     "status": "completed"
    },
    "tags": []
   },
   "outputs": [
    {
     "data": {
      "text/plain": [
       "(891, 12)"
      ]
     },
     "execution_count": 3,
     "metadata": {},
     "output_type": "execute_result"
    }
   ],
   "source": [
    "df1.shape"
   ]
  },
  {
   "cell_type": "code",
   "execution_count": 4,
   "id": "4c8dbde4",
   "metadata": {
    "execution": {
     "iopub.execute_input": "2022-12-30T08:28:46.645736Z",
     "iopub.status.busy": "2022-12-30T08:28:46.645293Z",
     "iopub.status.idle": "2022-12-30T08:28:46.670468Z",
     "shell.execute_reply": "2022-12-30T08:28:46.669322Z"
    },
    "papermill": {
     "duration": 0.046552,
     "end_time": "2022-12-30T08:28:46.673563",
     "exception": false,
     "start_time": "2022-12-30T08:28:46.627011",
     "status": "completed"
    },
    "tags": []
   },
   "outputs": [
    {
     "name": "stdout",
     "output_type": "stream",
     "text": [
      "<class 'pandas.core.frame.DataFrame'>\n",
      "RangeIndex: 891 entries, 0 to 890\n",
      "Data columns (total 12 columns):\n",
      " #   Column       Non-Null Count  Dtype  \n",
      "---  ------       --------------  -----  \n",
      " 0   PassengerId  891 non-null    int64  \n",
      " 1   Survived     891 non-null    int64  \n",
      " 2   Pclass       891 non-null    int64  \n",
      " 3   Name         891 non-null    object \n",
      " 4   Sex          891 non-null    object \n",
      " 5   Age          714 non-null    float64\n",
      " 6   SibSp        891 non-null    int64  \n",
      " 7   Parch        891 non-null    int64  \n",
      " 8   Ticket       891 non-null    object \n",
      " 9   Fare         891 non-null    float64\n",
      " 10  Cabin        204 non-null    object \n",
      " 11  Embarked     889 non-null    object \n",
      "dtypes: float64(2), int64(5), object(5)\n",
      "memory usage: 83.7+ KB\n"
     ]
    }
   ],
   "source": [
    "df1.info()"
   ]
  },
  {
   "cell_type": "code",
   "execution_count": 5,
   "id": "373a42f9",
   "metadata": {
    "execution": {
     "iopub.execute_input": "2022-12-30T08:28:46.709774Z",
     "iopub.status.busy": "2022-12-30T08:28:46.709304Z",
     "iopub.status.idle": "2022-12-30T08:28:46.743716Z",
     "shell.execute_reply": "2022-12-30T08:28:46.742470Z"
    },
    "papermill": {
     "duration": 0.055306,
     "end_time": "2022-12-30T08:28:46.746260",
     "exception": false,
     "start_time": "2022-12-30T08:28:46.690954",
     "status": "completed"
    },
    "tags": []
   },
   "outputs": [
    {
     "data": {
      "text/html": [
       "<div>\n",
       "<style scoped>\n",
       "    .dataframe tbody tr th:only-of-type {\n",
       "        vertical-align: middle;\n",
       "    }\n",
       "\n",
       "    .dataframe tbody tr th {\n",
       "        vertical-align: top;\n",
       "    }\n",
       "\n",
       "    .dataframe thead th {\n",
       "        text-align: right;\n",
       "    }\n",
       "</style>\n",
       "<table border=\"1\" class=\"dataframe\">\n",
       "  <thead>\n",
       "    <tr style=\"text-align: right;\">\n",
       "      <th></th>\n",
       "      <th>PassengerId</th>\n",
       "      <th>Survived</th>\n",
       "      <th>Pclass</th>\n",
       "      <th>Age</th>\n",
       "      <th>SibSp</th>\n",
       "      <th>Parch</th>\n",
       "      <th>Fare</th>\n",
       "    </tr>\n",
       "  </thead>\n",
       "  <tbody>\n",
       "    <tr>\n",
       "      <th>count</th>\n",
       "      <td>891.000000</td>\n",
       "      <td>891.000000</td>\n",
       "      <td>891.000000</td>\n",
       "      <td>714.000000</td>\n",
       "      <td>891.000000</td>\n",
       "      <td>891.000000</td>\n",
       "      <td>891.000000</td>\n",
       "    </tr>\n",
       "    <tr>\n",
       "      <th>mean</th>\n",
       "      <td>446.000000</td>\n",
       "      <td>0.383838</td>\n",
       "      <td>2.308642</td>\n",
       "      <td>29.699118</td>\n",
       "      <td>0.523008</td>\n",
       "      <td>0.381594</td>\n",
       "      <td>32.204208</td>\n",
       "    </tr>\n",
       "    <tr>\n",
       "      <th>std</th>\n",
       "      <td>257.353842</td>\n",
       "      <td>0.486592</td>\n",
       "      <td>0.836071</td>\n",
       "      <td>14.526497</td>\n",
       "      <td>1.102743</td>\n",
       "      <td>0.806057</td>\n",
       "      <td>49.693429</td>\n",
       "    </tr>\n",
       "    <tr>\n",
       "      <th>min</th>\n",
       "      <td>1.000000</td>\n",
       "      <td>0.000000</td>\n",
       "      <td>1.000000</td>\n",
       "      <td>0.420000</td>\n",
       "      <td>0.000000</td>\n",
       "      <td>0.000000</td>\n",
       "      <td>0.000000</td>\n",
       "    </tr>\n",
       "    <tr>\n",
       "      <th>25%</th>\n",
       "      <td>223.500000</td>\n",
       "      <td>0.000000</td>\n",
       "      <td>2.000000</td>\n",
       "      <td>20.125000</td>\n",
       "      <td>0.000000</td>\n",
       "      <td>0.000000</td>\n",
       "      <td>7.910400</td>\n",
       "    </tr>\n",
       "    <tr>\n",
       "      <th>50%</th>\n",
       "      <td>446.000000</td>\n",
       "      <td>0.000000</td>\n",
       "      <td>3.000000</td>\n",
       "      <td>28.000000</td>\n",
       "      <td>0.000000</td>\n",
       "      <td>0.000000</td>\n",
       "      <td>14.454200</td>\n",
       "    </tr>\n",
       "    <tr>\n",
       "      <th>75%</th>\n",
       "      <td>668.500000</td>\n",
       "      <td>1.000000</td>\n",
       "      <td>3.000000</td>\n",
       "      <td>38.000000</td>\n",
       "      <td>1.000000</td>\n",
       "      <td>0.000000</td>\n",
       "      <td>31.000000</td>\n",
       "    </tr>\n",
       "    <tr>\n",
       "      <th>max</th>\n",
       "      <td>891.000000</td>\n",
       "      <td>1.000000</td>\n",
       "      <td>3.000000</td>\n",
       "      <td>80.000000</td>\n",
       "      <td>8.000000</td>\n",
       "      <td>6.000000</td>\n",
       "      <td>512.329200</td>\n",
       "    </tr>\n",
       "  </tbody>\n",
       "</table>\n",
       "</div>"
      ],
      "text/plain": [
       "       PassengerId    Survived      Pclass         Age       SibSp  \\\n",
       "count   891.000000  891.000000  891.000000  714.000000  891.000000   \n",
       "mean    446.000000    0.383838    2.308642   29.699118    0.523008   \n",
       "std     257.353842    0.486592    0.836071   14.526497    1.102743   \n",
       "min       1.000000    0.000000    1.000000    0.420000    0.000000   \n",
       "25%     223.500000    0.000000    2.000000   20.125000    0.000000   \n",
       "50%     446.000000    0.000000    3.000000   28.000000    0.000000   \n",
       "75%     668.500000    1.000000    3.000000   38.000000    1.000000   \n",
       "max     891.000000    1.000000    3.000000   80.000000    8.000000   \n",
       "\n",
       "            Parch        Fare  \n",
       "count  891.000000  891.000000  \n",
       "mean     0.381594   32.204208  \n",
       "std      0.806057   49.693429  \n",
       "min      0.000000    0.000000  \n",
       "25%      0.000000    7.910400  \n",
       "50%      0.000000   14.454200  \n",
       "75%      0.000000   31.000000  \n",
       "max      6.000000  512.329200  "
      ]
     },
     "execution_count": 5,
     "metadata": {},
     "output_type": "execute_result"
    }
   ],
   "source": [
    "df1.describe()"
   ]
  },
  {
   "cell_type": "code",
   "execution_count": 6,
   "id": "b19c36eb",
   "metadata": {
    "execution": {
     "iopub.execute_input": "2022-12-30T08:28:46.783379Z",
     "iopub.status.busy": "2022-12-30T08:28:46.782577Z",
     "iopub.status.idle": "2022-12-30T08:28:46.791654Z",
     "shell.execute_reply": "2022-12-30T08:28:46.790365Z"
    },
    "papermill": {
     "duration": 0.030148,
     "end_time": "2022-12-30T08:28:46.793975",
     "exception": false,
     "start_time": "2022-12-30T08:28:46.763827",
     "status": "completed"
    },
    "tags": []
   },
   "outputs": [
    {
     "data": {
      "text/plain": [
       "array([3, 1, 2])"
      ]
     },
     "execution_count": 6,
     "metadata": {},
     "output_type": "execute_result"
    }
   ],
   "source": [
    "df1['Pclass'].unique()"
   ]
  },
  {
   "cell_type": "code",
   "execution_count": 7,
   "id": "1fb386e7",
   "metadata": {
    "execution": {
     "iopub.execute_input": "2022-12-30T08:28:46.831749Z",
     "iopub.status.busy": "2022-12-30T08:28:46.830859Z",
     "iopub.status.idle": "2022-12-30T08:28:46.839275Z",
     "shell.execute_reply": "2022-12-30T08:28:46.837999Z"
    },
    "papermill": {
     "duration": 0.029977,
     "end_time": "2022-12-30T08:28:46.841619",
     "exception": false,
     "start_time": "2022-12-30T08:28:46.811642",
     "status": "completed"
    },
    "tags": []
   },
   "outputs": [
    {
     "data": {
      "text/plain": [
       "array(['male', 'female'], dtype=object)"
      ]
     },
     "execution_count": 7,
     "metadata": {},
     "output_type": "execute_result"
    }
   ],
   "source": [
    "df1['Sex'].unique()"
   ]
  },
  {
   "cell_type": "code",
   "execution_count": 8,
   "id": "772d51b2",
   "metadata": {
    "execution": {
     "iopub.execute_input": "2022-12-30T08:28:46.879083Z",
     "iopub.status.busy": "2022-12-30T08:28:46.878670Z",
     "iopub.status.idle": "2022-12-30T08:28:46.885223Z",
     "shell.execute_reply": "2022-12-30T08:28:46.884416Z"
    },
    "papermill": {
     "duration": 0.027703,
     "end_time": "2022-12-30T08:28:46.887354",
     "exception": false,
     "start_time": "2022-12-30T08:28:46.859651",
     "status": "completed"
    },
    "tags": []
   },
   "outputs": [
    {
     "data": {
      "text/plain": [
       "array([0, 1])"
      ]
     },
     "execution_count": 8,
     "metadata": {},
     "output_type": "execute_result"
    }
   ],
   "source": [
    "df1['Survived'].unique()"
   ]
  },
  {
   "cell_type": "code",
   "execution_count": 9,
   "id": "33af0f4f",
   "metadata": {
    "execution": {
     "iopub.execute_input": "2022-12-30T08:28:46.924581Z",
     "iopub.status.busy": "2022-12-30T08:28:46.924164Z",
     "iopub.status.idle": "2022-12-30T08:28:46.931518Z",
     "shell.execute_reply": "2022-12-30T08:28:46.930500Z"
    },
    "papermill": {
     "duration": 0.029455,
     "end_time": "2022-12-30T08:28:46.934656",
     "exception": false,
     "start_time": "2022-12-30T08:28:46.905201",
     "status": "completed"
    },
    "tags": []
   },
   "outputs": [
    {
     "data": {
      "text/plain": [
       "array(['S', 'C', 'Q', nan], dtype=object)"
      ]
     },
     "execution_count": 9,
     "metadata": {},
     "output_type": "execute_result"
    }
   ],
   "source": [
    "df1['Embarked'].unique()"
   ]
  },
  {
   "cell_type": "code",
   "execution_count": 10,
   "id": "5aa6cb0c",
   "metadata": {
    "execution": {
     "iopub.execute_input": "2022-12-30T08:28:46.972326Z",
     "iopub.status.busy": "2022-12-30T08:28:46.971924Z",
     "iopub.status.idle": "2022-12-30T08:28:46.983676Z",
     "shell.execute_reply": "2022-12-30T08:28:46.982588Z"
    },
    "papermill": {
     "duration": 0.033522,
     "end_time": "2022-12-30T08:28:46.986243",
     "exception": false,
     "start_time": "2022-12-30T08:28:46.952721",
     "status": "completed"
    },
    "tags": []
   },
   "outputs": [
    {
     "data": {
      "text/plain": [
       "0"
      ]
     },
     "execution_count": 10,
     "metadata": {},
     "output_type": "execute_result"
    }
   ],
   "source": [
    "df1.duplicated().sum()"
   ]
  },
  {
   "cell_type": "code",
   "execution_count": 11,
   "id": "c0e95d64",
   "metadata": {
    "execution": {
     "iopub.execute_input": "2022-12-30T08:28:47.026733Z",
     "iopub.status.busy": "2022-12-30T08:28:47.025557Z",
     "iopub.status.idle": "2022-12-30T08:28:47.042356Z",
     "shell.execute_reply": "2022-12-30T08:28:47.041252Z"
    },
    "papermill": {
     "duration": 0.039232,
     "end_time": "2022-12-30T08:28:47.044763",
     "exception": false,
     "start_time": "2022-12-30T08:28:47.005531",
     "status": "completed"
    },
    "tags": []
   },
   "outputs": [
    {
     "data": {
      "text/html": [
       "<div>\n",
       "<style scoped>\n",
       "    .dataframe tbody tr th:only-of-type {\n",
       "        vertical-align: middle;\n",
       "    }\n",
       "\n",
       "    .dataframe tbody tr th {\n",
       "        vertical-align: top;\n",
       "    }\n",
       "\n",
       "    .dataframe thead th {\n",
       "        text-align: right;\n",
       "    }\n",
       "</style>\n",
       "<table border=\"1\" class=\"dataframe\">\n",
       "  <thead>\n",
       "    <tr style=\"text-align: right;\">\n",
       "      <th></th>\n",
       "      <th>PassengerId</th>\n",
       "      <th>Survived</th>\n",
       "      <th>Pclass</th>\n",
       "      <th>Sex</th>\n",
       "      <th>Age</th>\n",
       "      <th>SibSp</th>\n",
       "      <th>Parch</th>\n",
       "      <th>Cabin</th>\n",
       "      <th>Embarked</th>\n",
       "    </tr>\n",
       "  </thead>\n",
       "  <tbody>\n",
       "    <tr>\n",
       "      <th>0</th>\n",
       "      <td>1</td>\n",
       "      <td>0</td>\n",
       "      <td>3</td>\n",
       "      <td>male</td>\n",
       "      <td>22.0</td>\n",
       "      <td>1</td>\n",
       "      <td>0</td>\n",
       "      <td>NaN</td>\n",
       "      <td>S</td>\n",
       "    </tr>\n",
       "    <tr>\n",
       "      <th>1</th>\n",
       "      <td>2</td>\n",
       "      <td>1</td>\n",
       "      <td>1</td>\n",
       "      <td>female</td>\n",
       "      <td>38.0</td>\n",
       "      <td>1</td>\n",
       "      <td>0</td>\n",
       "      <td>C85</td>\n",
       "      <td>C</td>\n",
       "    </tr>\n",
       "    <tr>\n",
       "      <th>2</th>\n",
       "      <td>3</td>\n",
       "      <td>1</td>\n",
       "      <td>3</td>\n",
       "      <td>female</td>\n",
       "      <td>26.0</td>\n",
       "      <td>0</td>\n",
       "      <td>0</td>\n",
       "      <td>NaN</td>\n",
       "      <td>S</td>\n",
       "    </tr>\n",
       "    <tr>\n",
       "      <th>3</th>\n",
       "      <td>4</td>\n",
       "      <td>1</td>\n",
       "      <td>1</td>\n",
       "      <td>female</td>\n",
       "      <td>35.0</td>\n",
       "      <td>1</td>\n",
       "      <td>0</td>\n",
       "      <td>C123</td>\n",
       "      <td>S</td>\n",
       "    </tr>\n",
       "    <tr>\n",
       "      <th>4</th>\n",
       "      <td>5</td>\n",
       "      <td>0</td>\n",
       "      <td>3</td>\n",
       "      <td>male</td>\n",
       "      <td>35.0</td>\n",
       "      <td>0</td>\n",
       "      <td>0</td>\n",
       "      <td>NaN</td>\n",
       "      <td>S</td>\n",
       "    </tr>\n",
       "  </tbody>\n",
       "</table>\n",
       "</div>"
      ],
      "text/plain": [
       "   PassengerId  Survived  Pclass     Sex   Age  SibSp  Parch Cabin Embarked\n",
       "0            1         0       3    male  22.0      1      0   NaN        S\n",
       "1            2         1       1  female  38.0      1      0   C85        C\n",
       "2            3         1       3  female  26.0      0      0   NaN        S\n",
       "3            4         1       1  female  35.0      1      0  C123        S\n",
       "4            5         0       3    male  35.0      0      0   NaN        S"
      ]
     },
     "execution_count": 11,
     "metadata": {},
     "output_type": "execute_result"
    }
   ],
   "source": [
    "df1.drop(columns=[\"Name\",\"Ticket\",\"Fare\",],axis=1,inplace=True)\n",
    "df1.head()"
   ]
  },
  {
   "cell_type": "code",
   "execution_count": 12,
   "id": "b3f0f180",
   "metadata": {
    "execution": {
     "iopub.execute_input": "2022-12-30T08:28:47.084946Z",
     "iopub.status.busy": "2022-12-30T08:28:47.084138Z",
     "iopub.status.idle": "2022-12-30T08:28:47.094146Z",
     "shell.execute_reply": "2022-12-30T08:28:47.093077Z"
    },
    "papermill": {
     "duration": 0.032606,
     "end_time": "2022-12-30T08:28:47.096917",
     "exception": false,
     "start_time": "2022-12-30T08:28:47.064311",
     "status": "completed"
    },
    "tags": []
   },
   "outputs": [
    {
     "data": {
      "text/plain": [
       "PassengerId      0\n",
       "Survived         0\n",
       "Pclass           0\n",
       "Sex              0\n",
       "Age            177\n",
       "SibSp            0\n",
       "Parch            0\n",
       "Cabin          687\n",
       "Embarked         2\n",
       "dtype: int64"
      ]
     },
     "execution_count": 12,
     "metadata": {},
     "output_type": "execute_result"
    }
   ],
   "source": [
    "df1.isnull().sum()"
   ]
  },
  {
   "cell_type": "code",
   "execution_count": 13,
   "id": "7c407ad7",
   "metadata": {
    "execution": {
     "iopub.execute_input": "2022-12-30T08:28:47.135500Z",
     "iopub.status.busy": "2022-12-30T08:28:47.135119Z",
     "iopub.status.idle": "2022-12-30T08:28:47.142473Z",
     "shell.execute_reply": "2022-12-30T08:28:47.141636Z"
    },
    "papermill": {
     "duration": 0.029424,
     "end_time": "2022-12-30T08:28:47.144568",
     "exception": false,
     "start_time": "2022-12-30T08:28:47.115144",
     "status": "completed"
    },
    "tags": []
   },
   "outputs": [
    {
     "data": {
      "text/plain": [
       "29.69911764705882"
      ]
     },
     "execution_count": 13,
     "metadata": {},
     "output_type": "execute_result"
    }
   ],
   "source": [
    "df1[\"Age\"].mean()"
   ]
  },
  {
   "cell_type": "code",
   "execution_count": 14,
   "id": "0dfe89c1",
   "metadata": {
    "execution": {
     "iopub.execute_input": "2022-12-30T08:28:47.183718Z",
     "iopub.status.busy": "2022-12-30T08:28:47.183279Z",
     "iopub.status.idle": "2022-12-30T08:28:47.190949Z",
     "shell.execute_reply": "2022-12-30T08:28:47.189971Z"
    },
    "papermill": {
     "duration": 0.030443,
     "end_time": "2022-12-30T08:28:47.193526",
     "exception": false,
     "start_time": "2022-12-30T08:28:47.163083",
     "status": "completed"
    },
    "tags": []
   },
   "outputs": [
    {
     "data": {
      "text/plain": [
       "28.0"
      ]
     },
     "execution_count": 14,
     "metadata": {},
     "output_type": "execute_result"
    }
   ],
   "source": [
    "df1[\"Age\"].median()"
   ]
  },
  {
   "cell_type": "code",
   "execution_count": 15,
   "id": "bb43c453",
   "metadata": {
    "execution": {
     "iopub.execute_input": "2022-12-30T08:28:47.234096Z",
     "iopub.status.busy": "2022-12-30T08:28:47.233672Z",
     "iopub.status.idle": "2022-12-30T08:28:47.243850Z",
     "shell.execute_reply": "2022-12-30T08:28:47.242630Z"
    },
    "papermill": {
     "duration": 0.033316,
     "end_time": "2022-12-30T08:28:47.246248",
     "exception": false,
     "start_time": "2022-12-30T08:28:47.212932",
     "status": "completed"
    },
    "tags": []
   },
   "outputs": [
    {
     "data": {
      "text/plain": [
       "0    24.0\n",
       "dtype: float64"
      ]
     },
     "execution_count": 15,
     "metadata": {},
     "output_type": "execute_result"
    }
   ],
   "source": [
    "df1[\"Age\"].mode()"
   ]
  },
  {
   "cell_type": "code",
   "execution_count": 16,
   "id": "9db2603d",
   "metadata": {
    "execution": {
     "iopub.execute_input": "2022-12-30T08:28:47.286521Z",
     "iopub.status.busy": "2022-12-30T08:28:47.286118Z",
     "iopub.status.idle": "2022-12-30T08:28:47.292534Z",
     "shell.execute_reply": "2022-12-30T08:28:47.291430Z"
    },
    "papermill": {
     "duration": 0.029544,
     "end_time": "2022-12-30T08:28:47.294928",
     "exception": false,
     "start_time": "2022-12-30T08:28:47.265384",
     "status": "completed"
    },
    "tags": []
   },
   "outputs": [],
   "source": [
    "df1[\"Age\"].fillna(df1[\"Age\"].mean(),inplace=True)"
   ]
  },
  {
   "cell_type": "code",
   "execution_count": 17,
   "id": "c9f3a8b1",
   "metadata": {
    "execution": {
     "iopub.execute_input": "2022-12-30T08:28:47.335579Z",
     "iopub.status.busy": "2022-12-30T08:28:47.335166Z",
     "iopub.status.idle": "2022-12-30T08:28:47.345207Z",
     "shell.execute_reply": "2022-12-30T08:28:47.344067Z"
    },
    "papermill": {
     "duration": 0.033085,
     "end_time": "2022-12-30T08:28:47.347516",
     "exception": false,
     "start_time": "2022-12-30T08:28:47.314431",
     "status": "completed"
    },
    "tags": []
   },
   "outputs": [
    {
     "data": {
      "text/plain": [
       "PassengerId      0\n",
       "Survived         0\n",
       "Pclass           0\n",
       "Sex              0\n",
       "Age              0\n",
       "SibSp            0\n",
       "Parch            0\n",
       "Cabin          687\n",
       "Embarked         2\n",
       "dtype: int64"
      ]
     },
     "execution_count": 17,
     "metadata": {},
     "output_type": "execute_result"
    }
   ],
   "source": [
    "df1.isnull().sum()"
   ]
  },
  {
   "cell_type": "code",
   "execution_count": 18,
   "id": "709e5378",
   "metadata": {
    "execution": {
     "iopub.execute_input": "2022-12-30T08:28:47.387405Z",
     "iopub.status.busy": "2022-12-30T08:28:47.387008Z",
     "iopub.status.idle": "2022-12-30T08:28:47.393851Z",
     "shell.execute_reply": "2022-12-30T08:28:47.392554Z"
    },
    "papermill": {
     "duration": 0.029381,
     "end_time": "2022-12-30T08:28:47.396315",
     "exception": false,
     "start_time": "2022-12-30T08:28:47.366934",
     "status": "completed"
    },
    "tags": []
   },
   "outputs": [],
   "source": [
    "df1.drop(\"Cabin\",axis=1,inplace=True)"
   ]
  },
  {
   "cell_type": "code",
   "execution_count": 19,
   "id": "473e4c1a",
   "metadata": {
    "execution": {
     "iopub.execute_input": "2022-12-30T08:28:47.436238Z",
     "iopub.status.busy": "2022-12-30T08:28:47.435428Z",
     "iopub.status.idle": "2022-12-30T08:28:47.449590Z",
     "shell.execute_reply": "2022-12-30T08:28:47.448492Z"
    },
    "papermill": {
     "duration": 0.036752,
     "end_time": "2022-12-30T08:28:47.452003",
     "exception": false,
     "start_time": "2022-12-30T08:28:47.415251",
     "status": "completed"
    },
    "tags": []
   },
   "outputs": [
    {
     "data": {
      "text/html": [
       "<div>\n",
       "<style scoped>\n",
       "    .dataframe tbody tr th:only-of-type {\n",
       "        vertical-align: middle;\n",
       "    }\n",
       "\n",
       "    .dataframe tbody tr th {\n",
       "        vertical-align: top;\n",
       "    }\n",
       "\n",
       "    .dataframe thead th {\n",
       "        text-align: right;\n",
       "    }\n",
       "</style>\n",
       "<table border=\"1\" class=\"dataframe\">\n",
       "  <thead>\n",
       "    <tr style=\"text-align: right;\">\n",
       "      <th></th>\n",
       "      <th>PassengerId</th>\n",
       "      <th>Survived</th>\n",
       "      <th>Pclass</th>\n",
       "      <th>Sex</th>\n",
       "      <th>Age</th>\n",
       "      <th>SibSp</th>\n",
       "      <th>Parch</th>\n",
       "      <th>Embarked</th>\n",
       "    </tr>\n",
       "  </thead>\n",
       "  <tbody>\n",
       "    <tr>\n",
       "      <th>0</th>\n",
       "      <td>1</td>\n",
       "      <td>0</td>\n",
       "      <td>3</td>\n",
       "      <td>male</td>\n",
       "      <td>22.0</td>\n",
       "      <td>1</td>\n",
       "      <td>0</td>\n",
       "      <td>S</td>\n",
       "    </tr>\n",
       "    <tr>\n",
       "      <th>1</th>\n",
       "      <td>2</td>\n",
       "      <td>1</td>\n",
       "      <td>1</td>\n",
       "      <td>female</td>\n",
       "      <td>38.0</td>\n",
       "      <td>1</td>\n",
       "      <td>0</td>\n",
       "      <td>C</td>\n",
       "    </tr>\n",
       "    <tr>\n",
       "      <th>2</th>\n",
       "      <td>3</td>\n",
       "      <td>1</td>\n",
       "      <td>3</td>\n",
       "      <td>female</td>\n",
       "      <td>26.0</td>\n",
       "      <td>0</td>\n",
       "      <td>0</td>\n",
       "      <td>S</td>\n",
       "    </tr>\n",
       "    <tr>\n",
       "      <th>3</th>\n",
       "      <td>4</td>\n",
       "      <td>1</td>\n",
       "      <td>1</td>\n",
       "      <td>female</td>\n",
       "      <td>35.0</td>\n",
       "      <td>1</td>\n",
       "      <td>0</td>\n",
       "      <td>S</td>\n",
       "    </tr>\n",
       "    <tr>\n",
       "      <th>4</th>\n",
       "      <td>5</td>\n",
       "      <td>0</td>\n",
       "      <td>3</td>\n",
       "      <td>male</td>\n",
       "      <td>35.0</td>\n",
       "      <td>0</td>\n",
       "      <td>0</td>\n",
       "      <td>S</td>\n",
       "    </tr>\n",
       "  </tbody>\n",
       "</table>\n",
       "</div>"
      ],
      "text/plain": [
       "   PassengerId  Survived  Pclass     Sex   Age  SibSp  Parch Embarked\n",
       "0            1         0       3    male  22.0      1      0        S\n",
       "1            2         1       1  female  38.0      1      0        C\n",
       "2            3         1       3  female  26.0      0      0        S\n",
       "3            4         1       1  female  35.0      1      0        S\n",
       "4            5         0       3    male  35.0      0      0        S"
      ]
     },
     "execution_count": 19,
     "metadata": {},
     "output_type": "execute_result"
    }
   ],
   "source": [
    "df1.head()"
   ]
  },
  {
   "cell_type": "code",
   "execution_count": 20,
   "id": "270b0c56",
   "metadata": {
    "execution": {
     "iopub.execute_input": "2022-12-30T08:28:47.492471Z",
     "iopub.status.busy": "2022-12-30T08:28:47.492042Z",
     "iopub.status.idle": "2022-12-30T08:28:47.501879Z",
     "shell.execute_reply": "2022-12-30T08:28:47.500507Z"
    },
    "papermill": {
     "duration": 0.032584,
     "end_time": "2022-12-30T08:28:47.504146",
     "exception": false,
     "start_time": "2022-12-30T08:28:47.471562",
     "status": "completed"
    },
    "tags": []
   },
   "outputs": [],
   "source": [
    "df1[\"Embarked\"].fillna( method ='ffill',limit=1,inplace = True)"
   ]
  },
  {
   "cell_type": "code",
   "execution_count": 21,
   "id": "5a42932c",
   "metadata": {
    "execution": {
     "iopub.execute_input": "2022-12-30T08:28:47.544662Z",
     "iopub.status.busy": "2022-12-30T08:28:47.543469Z",
     "iopub.status.idle": "2022-12-30T08:28:47.553619Z",
     "shell.execute_reply": "2022-12-30T08:28:47.552437Z"
    },
    "papermill": {
     "duration": 0.032759,
     "end_time": "2022-12-30T08:28:47.555963",
     "exception": false,
     "start_time": "2022-12-30T08:28:47.523204",
     "status": "completed"
    },
    "tags": []
   },
   "outputs": [
    {
     "data": {
      "text/plain": [
       "PassengerId    0\n",
       "Survived       0\n",
       "Pclass         0\n",
       "Sex            0\n",
       "Age            0\n",
       "SibSp          0\n",
       "Parch          0\n",
       "Embarked       0\n",
       "dtype: int64"
      ]
     },
     "execution_count": 21,
     "metadata": {},
     "output_type": "execute_result"
    }
   ],
   "source": [
    "df1.isnull().sum()"
   ]
  },
  {
   "cell_type": "code",
   "execution_count": 22,
   "id": "5910ddad",
   "metadata": {
    "execution": {
     "iopub.execute_input": "2022-12-30T08:28:47.596073Z",
     "iopub.status.busy": "2022-12-30T08:28:47.595639Z",
     "iopub.status.idle": "2022-12-30T08:28:47.606039Z",
     "shell.execute_reply": "2022-12-30T08:28:47.605150Z"
    },
    "papermill": {
     "duration": 0.034187,
     "end_time": "2022-12-30T08:28:47.609296",
     "exception": false,
     "start_time": "2022-12-30T08:28:47.575109",
     "status": "completed"
    },
    "tags": []
   },
   "outputs": [
    {
     "name": "stderr",
     "output_type": "stream",
     "text": [
      "/opt/conda/lib/python3.7/site-packages/ipykernel_launcher.py:1: FutureWarning: Dropping of nuisance columns in DataFrame reductions (with 'numeric_only=None') is deprecated; in a future version this will raise TypeError.  Select only valid columns before calling the reduction.\n",
      "  \"\"\"Entry point for launching an IPython kernel.\n"
     ]
    },
    {
     "data": {
      "text/plain": [
       "PassengerId    0.000000\n",
       "Survived       0.478523\n",
       "Pclass        -0.630548\n",
       "Age            0.434488\n",
       "SibSp          3.695352\n",
       "Parch          2.749117\n",
       "dtype: float64"
      ]
     },
     "execution_count": 22,
     "metadata": {},
     "output_type": "execute_result"
    }
   ],
   "source": [
    "df1.skew()"
   ]
  },
  {
   "cell_type": "code",
   "execution_count": 23,
   "id": "1918bda2",
   "metadata": {
    "execution": {
     "iopub.execute_input": "2022-12-30T08:28:47.650301Z",
     "iopub.status.busy": "2022-12-30T08:28:47.649884Z",
     "iopub.status.idle": "2022-12-30T08:28:47.657801Z",
     "shell.execute_reply": "2022-12-30T08:28:47.656682Z"
    },
    "papermill": {
     "duration": 0.030997,
     "end_time": "2022-12-30T08:28:47.660037",
     "exception": false,
     "start_time": "2022-12-30T08:28:47.629040",
     "status": "completed"
    },
    "tags": []
   },
   "outputs": [],
   "source": [
    "q1=df1[\"SibSp\"].quantile(0.25)\n",
    "q2=df1[\"SibSp\"].quantile(0.75)"
   ]
  },
  {
   "cell_type": "code",
   "execution_count": 24,
   "id": "eab33738",
   "metadata": {
    "execution": {
     "iopub.execute_input": "2022-12-30T08:28:47.700369Z",
     "iopub.status.busy": "2022-12-30T08:28:47.699976Z",
     "iopub.status.idle": "2022-12-30T08:28:47.707106Z",
     "shell.execute_reply": "2022-12-30T08:28:47.705941Z"
    },
    "papermill": {
     "duration": 0.030542,
     "end_time": "2022-12-30T08:28:47.709930",
     "exception": false,
     "start_time": "2022-12-30T08:28:47.679388",
     "status": "completed"
    },
    "tags": []
   },
   "outputs": [
    {
     "data": {
      "text/plain": [
       "0.0"
      ]
     },
     "execution_count": 24,
     "metadata": {},
     "output_type": "execute_result"
    }
   ],
   "source": [
    "q1"
   ]
  },
  {
   "cell_type": "code",
   "execution_count": 25,
   "id": "b64ec4e7",
   "metadata": {
    "execution": {
     "iopub.execute_input": "2022-12-30T08:28:47.751277Z",
     "iopub.status.busy": "2022-12-30T08:28:47.750488Z",
     "iopub.status.idle": "2022-12-30T08:28:47.756714Z",
     "shell.execute_reply": "2022-12-30T08:28:47.755881Z"
    },
    "papermill": {
     "duration": 0.029367,
     "end_time": "2022-12-30T08:28:47.759051",
     "exception": false,
     "start_time": "2022-12-30T08:28:47.729684",
     "status": "completed"
    },
    "tags": []
   },
   "outputs": [
    {
     "data": {
      "text/plain": [
       "1.0"
      ]
     },
     "execution_count": 25,
     "metadata": {},
     "output_type": "execute_result"
    }
   ],
   "source": [
    "q2"
   ]
  },
  {
   "cell_type": "code",
   "execution_count": 26,
   "id": "9f28b5b2",
   "metadata": {
    "execution": {
     "iopub.execute_input": "2022-12-30T08:28:47.801664Z",
     "iopub.status.busy": "2022-12-30T08:28:47.801256Z",
     "iopub.status.idle": "2022-12-30T08:28:47.807895Z",
     "shell.execute_reply": "2022-12-30T08:28:47.806739Z"
    },
    "papermill": {
     "duration": 0.030822,
     "end_time": "2022-12-30T08:28:47.810501",
     "exception": false,
     "start_time": "2022-12-30T08:28:47.779679",
     "status": "completed"
    },
    "tags": []
   },
   "outputs": [],
   "source": [
    "df1[\"SibSp\"]=np.where(df1[\"SibSp\"]<q1,q1,df1[\"SibSp\"])\n",
    "df1[\"SibSp\"]=np.where(df1[\"SibSp\"]>q2,q2,df1[\"SibSp\"])"
   ]
  },
  {
   "cell_type": "code",
   "execution_count": 27,
   "id": "4cefd1f6",
   "metadata": {
    "execution": {
     "iopub.execute_input": "2022-12-30T08:28:47.851870Z",
     "iopub.status.busy": "2022-12-30T08:28:47.850924Z",
     "iopub.status.idle": "2022-12-30T08:28:47.859021Z",
     "shell.execute_reply": "2022-12-30T08:28:47.857918Z"
    },
    "papermill": {
     "duration": 0.031055,
     "end_time": "2022-12-30T08:28:47.861227",
     "exception": false,
     "start_time": "2022-12-30T08:28:47.830172",
     "status": "completed"
    },
    "tags": []
   },
   "outputs": [
    {
     "data": {
      "text/plain": [
       "0.7848206976782393"
      ]
     },
     "execution_count": 27,
     "metadata": {},
     "output_type": "execute_result"
    }
   ],
   "source": [
    "df1[\"SibSp\"].skew()"
   ]
  },
  {
   "cell_type": "code",
   "execution_count": 28,
   "id": "01a3ce26",
   "metadata": {
    "execution": {
     "iopub.execute_input": "2022-12-30T08:28:47.902186Z",
     "iopub.status.busy": "2022-12-30T08:28:47.901812Z",
     "iopub.status.idle": "2022-12-30T08:28:47.909666Z",
     "shell.execute_reply": "2022-12-30T08:28:47.908609Z"
    },
    "papermill": {
     "duration": 0.031064,
     "end_time": "2022-12-30T08:28:47.911948",
     "exception": false,
     "start_time": "2022-12-30T08:28:47.880884",
     "status": "completed"
    },
    "tags": []
   },
   "outputs": [
    {
     "data": {
      "text/plain": [
       "1.5297990732860154"
      ]
     },
     "execution_count": 28,
     "metadata": {},
     "output_type": "execute_result"
    }
   ],
   "source": [
    "df1[\"Parch\"]=np.sqrt(df1[\"Parch\"])\n",
    "df1[\"Parch\"].skew()"
   ]
  },
  {
   "cell_type": "code",
   "execution_count": 29,
   "id": "245eccb5",
   "metadata": {
    "execution": {
     "iopub.execute_input": "2022-12-30T08:28:47.953575Z",
     "iopub.status.busy": "2022-12-30T08:28:47.953175Z",
     "iopub.status.idle": "2022-12-30T08:28:47.965699Z",
     "shell.execute_reply": "2022-12-30T08:28:47.964372Z"
    },
    "papermill": {
     "duration": 0.036527,
     "end_time": "2022-12-30T08:28:47.968498",
     "exception": false,
     "start_time": "2022-12-30T08:28:47.931971",
     "status": "completed"
    },
    "tags": []
   },
   "outputs": [
    {
     "name": "stderr",
     "output_type": "stream",
     "text": [
      "/opt/conda/lib/python3.7/site-packages/ipykernel_launcher.py:1: FutureWarning: Dropping of nuisance columns in DataFrame reductions (with 'numeric_only=None') is deprecated; in a future version this will raise TypeError.  Select only valid columns before calling the reduction.\n",
      "  \"\"\"Entry point for launching an IPython kernel.\n"
     ]
    },
    {
     "data": {
      "text/plain": [
       "PassengerId    0.000000\n",
       "Survived       0.478523\n",
       "Pclass        -0.630548\n",
       "Age            0.434488\n",
       "SibSp          0.784821\n",
       "Parch          1.529799\n",
       "dtype: float64"
      ]
     },
     "execution_count": 29,
     "metadata": {},
     "output_type": "execute_result"
    }
   ],
   "source": [
    "df1.skew()"
   ]
  },
  {
   "cell_type": "code",
   "execution_count": 30,
   "id": "45ec6a0b",
   "metadata": {
    "execution": {
     "iopub.execute_input": "2022-12-30T08:28:48.018871Z",
     "iopub.status.busy": "2022-12-30T08:28:48.018158Z",
     "iopub.status.idle": "2022-12-30T08:28:48.034085Z",
     "shell.execute_reply": "2022-12-30T08:28:48.031264Z"
    },
    "papermill": {
     "duration": 0.042572,
     "end_time": "2022-12-30T08:28:48.037758",
     "exception": false,
     "start_time": "2022-12-30T08:28:47.995186",
     "status": "completed"
    },
    "tags": []
   },
   "outputs": [
    {
     "data": {
      "text/html": [
       "<div>\n",
       "<style scoped>\n",
       "    .dataframe tbody tr th:only-of-type {\n",
       "        vertical-align: middle;\n",
       "    }\n",
       "\n",
       "    .dataframe tbody tr th {\n",
       "        vertical-align: top;\n",
       "    }\n",
       "\n",
       "    .dataframe thead th {\n",
       "        text-align: right;\n",
       "    }\n",
       "</style>\n",
       "<table border=\"1\" class=\"dataframe\">\n",
       "  <thead>\n",
       "    <tr style=\"text-align: right;\">\n",
       "      <th></th>\n",
       "      <th>female</th>\n",
       "      <th>male</th>\n",
       "    </tr>\n",
       "  </thead>\n",
       "  <tbody>\n",
       "    <tr>\n",
       "      <th>0</th>\n",
       "      <td>0</td>\n",
       "      <td>1</td>\n",
       "    </tr>\n",
       "    <tr>\n",
       "      <th>1</th>\n",
       "      <td>1</td>\n",
       "      <td>0</td>\n",
       "    </tr>\n",
       "    <tr>\n",
       "      <th>2</th>\n",
       "      <td>1</td>\n",
       "      <td>0</td>\n",
       "    </tr>\n",
       "    <tr>\n",
       "      <th>3</th>\n",
       "      <td>1</td>\n",
       "      <td>0</td>\n",
       "    </tr>\n",
       "    <tr>\n",
       "      <th>4</th>\n",
       "      <td>0</td>\n",
       "      <td>1</td>\n",
       "    </tr>\n",
       "  </tbody>\n",
       "</table>\n",
       "</div>"
      ],
      "text/plain": [
       "   female  male\n",
       "0       0     1\n",
       "1       1     0\n",
       "2       1     0\n",
       "3       1     0\n",
       "4       0     1"
      ]
     },
     "execution_count": 30,
     "metadata": {},
     "output_type": "execute_result"
    }
   ],
   "source": [
    "dummies=pd.get_dummies(df1.Sex)\n",
    "dummies.head()"
   ]
  },
  {
   "cell_type": "code",
   "execution_count": 31,
   "id": "3883c8ff",
   "metadata": {
    "execution": {
     "iopub.execute_input": "2022-12-30T08:28:48.080760Z",
     "iopub.status.busy": "2022-12-30T08:28:48.080306Z",
     "iopub.status.idle": "2022-12-30T08:28:48.086933Z",
     "shell.execute_reply": "2022-12-30T08:28:48.085614Z"
    },
    "papermill": {
     "duration": 0.030892,
     "end_time": "2022-12-30T08:28:48.089240",
     "exception": false,
     "start_time": "2022-12-30T08:28:48.058348",
     "status": "completed"
    },
    "tags": []
   },
   "outputs": [],
   "source": [
    "df1=pd.concat([dummies,df1],axis=1)\n"
   ]
  },
  {
   "cell_type": "code",
   "execution_count": 32,
   "id": "9f7df4d3",
   "metadata": {
    "execution": {
     "iopub.execute_input": "2022-12-30T08:28:48.131885Z",
     "iopub.status.busy": "2022-12-30T08:28:48.130879Z",
     "iopub.status.idle": "2022-12-30T08:28:48.147697Z",
     "shell.execute_reply": "2022-12-30T08:28:48.146555Z"
    },
    "papermill": {
     "duration": 0.040766,
     "end_time": "2022-12-30T08:28:48.150304",
     "exception": false,
     "start_time": "2022-12-30T08:28:48.109538",
     "status": "completed"
    },
    "tags": []
   },
   "outputs": [
    {
     "data": {
      "text/html": [
       "<div>\n",
       "<style scoped>\n",
       "    .dataframe tbody tr th:only-of-type {\n",
       "        vertical-align: middle;\n",
       "    }\n",
       "\n",
       "    .dataframe tbody tr th {\n",
       "        vertical-align: top;\n",
       "    }\n",
       "\n",
       "    .dataframe thead th {\n",
       "        text-align: right;\n",
       "    }\n",
       "</style>\n",
       "<table border=\"1\" class=\"dataframe\">\n",
       "  <thead>\n",
       "    <tr style=\"text-align: right;\">\n",
       "      <th></th>\n",
       "      <th>female</th>\n",
       "      <th>male</th>\n",
       "      <th>PassengerId</th>\n",
       "      <th>Survived</th>\n",
       "      <th>Pclass</th>\n",
       "      <th>Sex</th>\n",
       "      <th>Age</th>\n",
       "      <th>SibSp</th>\n",
       "      <th>Parch</th>\n",
       "      <th>Embarked</th>\n",
       "    </tr>\n",
       "  </thead>\n",
       "  <tbody>\n",
       "    <tr>\n",
       "      <th>0</th>\n",
       "      <td>0</td>\n",
       "      <td>1</td>\n",
       "      <td>1</td>\n",
       "      <td>0</td>\n",
       "      <td>3</td>\n",
       "      <td>male</td>\n",
       "      <td>22.0</td>\n",
       "      <td>1.0</td>\n",
       "      <td>0.0</td>\n",
       "      <td>S</td>\n",
       "    </tr>\n",
       "    <tr>\n",
       "      <th>1</th>\n",
       "      <td>1</td>\n",
       "      <td>0</td>\n",
       "      <td>2</td>\n",
       "      <td>1</td>\n",
       "      <td>1</td>\n",
       "      <td>female</td>\n",
       "      <td>38.0</td>\n",
       "      <td>1.0</td>\n",
       "      <td>0.0</td>\n",
       "      <td>C</td>\n",
       "    </tr>\n",
       "    <tr>\n",
       "      <th>2</th>\n",
       "      <td>1</td>\n",
       "      <td>0</td>\n",
       "      <td>3</td>\n",
       "      <td>1</td>\n",
       "      <td>3</td>\n",
       "      <td>female</td>\n",
       "      <td>26.0</td>\n",
       "      <td>0.0</td>\n",
       "      <td>0.0</td>\n",
       "      <td>S</td>\n",
       "    </tr>\n",
       "    <tr>\n",
       "      <th>3</th>\n",
       "      <td>1</td>\n",
       "      <td>0</td>\n",
       "      <td>4</td>\n",
       "      <td>1</td>\n",
       "      <td>1</td>\n",
       "      <td>female</td>\n",
       "      <td>35.0</td>\n",
       "      <td>1.0</td>\n",
       "      <td>0.0</td>\n",
       "      <td>S</td>\n",
       "    </tr>\n",
       "    <tr>\n",
       "      <th>4</th>\n",
       "      <td>0</td>\n",
       "      <td>1</td>\n",
       "      <td>5</td>\n",
       "      <td>0</td>\n",
       "      <td>3</td>\n",
       "      <td>male</td>\n",
       "      <td>35.0</td>\n",
       "      <td>0.0</td>\n",
       "      <td>0.0</td>\n",
       "      <td>S</td>\n",
       "    </tr>\n",
       "  </tbody>\n",
       "</table>\n",
       "</div>"
      ],
      "text/plain": [
       "   female  male  PassengerId  Survived  Pclass     Sex   Age  SibSp  Parch  \\\n",
       "0       0     1            1         0       3    male  22.0    1.0    0.0   \n",
       "1       1     0            2         1       1  female  38.0    1.0    0.0   \n",
       "2       1     0            3         1       3  female  26.0    0.0    0.0   \n",
       "3       1     0            4         1       1  female  35.0    1.0    0.0   \n",
       "4       0     1            5         0       3    male  35.0    0.0    0.0   \n",
       "\n",
       "  Embarked  \n",
       "0        S  \n",
       "1        C  \n",
       "2        S  \n",
       "3        S  \n",
       "4        S  "
      ]
     },
     "execution_count": 32,
     "metadata": {},
     "output_type": "execute_result"
    }
   ],
   "source": [
    "df1.head()"
   ]
  },
  {
   "cell_type": "code",
   "execution_count": 33,
   "id": "d0e844b4",
   "metadata": {
    "execution": {
     "iopub.execute_input": "2022-12-30T08:28:48.193258Z",
     "iopub.status.busy": "2022-12-30T08:28:48.192465Z",
     "iopub.status.idle": "2022-12-30T08:28:48.204856Z",
     "shell.execute_reply": "2022-12-30T08:28:48.203664Z"
    },
    "papermill": {
     "duration": 0.036132,
     "end_time": "2022-12-30T08:28:48.207032",
     "exception": false,
     "start_time": "2022-12-30T08:28:48.170900",
     "status": "completed"
    },
    "tags": []
   },
   "outputs": [
    {
     "data": {
      "text/html": [
       "<div>\n",
       "<style scoped>\n",
       "    .dataframe tbody tr th:only-of-type {\n",
       "        vertical-align: middle;\n",
       "    }\n",
       "\n",
       "    .dataframe tbody tr th {\n",
       "        vertical-align: top;\n",
       "    }\n",
       "\n",
       "    .dataframe thead th {\n",
       "        text-align: right;\n",
       "    }\n",
       "</style>\n",
       "<table border=\"1\" class=\"dataframe\">\n",
       "  <thead>\n",
       "    <tr style=\"text-align: right;\">\n",
       "      <th></th>\n",
       "      <th>C</th>\n",
       "      <th>Q</th>\n",
       "      <th>S</th>\n",
       "    </tr>\n",
       "  </thead>\n",
       "  <tbody>\n",
       "    <tr>\n",
       "      <th>0</th>\n",
       "      <td>0</td>\n",
       "      <td>0</td>\n",
       "      <td>1</td>\n",
       "    </tr>\n",
       "    <tr>\n",
       "      <th>1</th>\n",
       "      <td>1</td>\n",
       "      <td>0</td>\n",
       "      <td>0</td>\n",
       "    </tr>\n",
       "    <tr>\n",
       "      <th>2</th>\n",
       "      <td>0</td>\n",
       "      <td>0</td>\n",
       "      <td>1</td>\n",
       "    </tr>\n",
       "    <tr>\n",
       "      <th>3</th>\n",
       "      <td>0</td>\n",
       "      <td>0</td>\n",
       "      <td>1</td>\n",
       "    </tr>\n",
       "    <tr>\n",
       "      <th>4</th>\n",
       "      <td>0</td>\n",
       "      <td>0</td>\n",
       "      <td>1</td>\n",
       "    </tr>\n",
       "  </tbody>\n",
       "</table>\n",
       "</div>"
      ],
      "text/plain": [
       "   C  Q  S\n",
       "0  0  0  1\n",
       "1  1  0  0\n",
       "2  0  0  1\n",
       "3  0  0  1\n",
       "4  0  0  1"
      ]
     },
     "execution_count": 33,
     "metadata": {},
     "output_type": "execute_result"
    }
   ],
   "source": [
    "dummies=pd.get_dummies(df1.Embarked)\n",
    "dummies.head()"
   ]
  },
  {
   "cell_type": "code",
   "execution_count": 34,
   "id": "8a92d82e",
   "metadata": {
    "execution": {
     "iopub.execute_input": "2022-12-30T08:28:48.250267Z",
     "iopub.status.busy": "2022-12-30T08:28:48.249644Z",
     "iopub.status.idle": "2022-12-30T08:28:48.254817Z",
     "shell.execute_reply": "2022-12-30T08:28:48.253908Z"
    },
    "papermill": {
     "duration": 0.029194,
     "end_time": "2022-12-30T08:28:48.256903",
     "exception": false,
     "start_time": "2022-12-30T08:28:48.227709",
     "status": "completed"
    },
    "tags": []
   },
   "outputs": [],
   "source": [
    "df1=pd.concat([dummies,df1],axis=1)"
   ]
  },
  {
   "cell_type": "code",
   "execution_count": 35,
   "id": "3123d8f0",
   "metadata": {
    "execution": {
     "iopub.execute_input": "2022-12-30T08:28:48.299827Z",
     "iopub.status.busy": "2022-12-30T08:28:48.299211Z",
     "iopub.status.idle": "2022-12-30T08:28:48.305339Z",
     "shell.execute_reply": "2022-12-30T08:28:48.304180Z"
    },
    "papermill": {
     "duration": 0.030402,
     "end_time": "2022-12-30T08:28:48.307812",
     "exception": false,
     "start_time": "2022-12-30T08:28:48.277410",
     "status": "completed"
    },
    "tags": []
   },
   "outputs": [],
   "source": [
    "df1.drop(\"Sex\",axis=1,inplace=True)"
   ]
  },
  {
   "cell_type": "code",
   "execution_count": 36,
   "id": "b3f8eb76",
   "metadata": {
    "execution": {
     "iopub.execute_input": "2022-12-30T08:28:48.350375Z",
     "iopub.status.busy": "2022-12-30T08:28:48.349950Z",
     "iopub.status.idle": "2022-12-30T08:28:48.356375Z",
     "shell.execute_reply": "2022-12-30T08:28:48.355382Z"
    },
    "papermill": {
     "duration": 0.030157,
     "end_time": "2022-12-30T08:28:48.358515",
     "exception": false,
     "start_time": "2022-12-30T08:28:48.328358",
     "status": "completed"
    },
    "tags": []
   },
   "outputs": [],
   "source": [
    "df1.drop(\"Embarked\",axis=1,inplace=True)"
   ]
  },
  {
   "cell_type": "code",
   "execution_count": 37,
   "id": "32c7b2e1",
   "metadata": {
    "execution": {
     "iopub.execute_input": "2022-12-30T08:28:48.401414Z",
     "iopub.status.busy": "2022-12-30T08:28:48.400576Z",
     "iopub.status.idle": "2022-12-30T08:28:48.416257Z",
     "shell.execute_reply": "2022-12-30T08:28:48.415100Z"
    },
    "papermill": {
     "duration": 0.039473,
     "end_time": "2022-12-30T08:28:48.418505",
     "exception": false,
     "start_time": "2022-12-30T08:28:48.379032",
     "status": "completed"
    },
    "tags": []
   },
   "outputs": [
    {
     "data": {
      "text/html": [
       "<div>\n",
       "<style scoped>\n",
       "    .dataframe tbody tr th:only-of-type {\n",
       "        vertical-align: middle;\n",
       "    }\n",
       "\n",
       "    .dataframe tbody tr th {\n",
       "        vertical-align: top;\n",
       "    }\n",
       "\n",
       "    .dataframe thead th {\n",
       "        text-align: right;\n",
       "    }\n",
       "</style>\n",
       "<table border=\"1\" class=\"dataframe\">\n",
       "  <thead>\n",
       "    <tr style=\"text-align: right;\">\n",
       "      <th></th>\n",
       "      <th>C</th>\n",
       "      <th>Q</th>\n",
       "      <th>S</th>\n",
       "      <th>female</th>\n",
       "      <th>male</th>\n",
       "      <th>PassengerId</th>\n",
       "      <th>Survived</th>\n",
       "      <th>Pclass</th>\n",
       "      <th>Age</th>\n",
       "      <th>SibSp</th>\n",
       "      <th>Parch</th>\n",
       "    </tr>\n",
       "  </thead>\n",
       "  <tbody>\n",
       "    <tr>\n",
       "      <th>0</th>\n",
       "      <td>0</td>\n",
       "      <td>0</td>\n",
       "      <td>1</td>\n",
       "      <td>0</td>\n",
       "      <td>1</td>\n",
       "      <td>1</td>\n",
       "      <td>0</td>\n",
       "      <td>3</td>\n",
       "      <td>22.0</td>\n",
       "      <td>1.0</td>\n",
       "      <td>0.0</td>\n",
       "    </tr>\n",
       "    <tr>\n",
       "      <th>1</th>\n",
       "      <td>1</td>\n",
       "      <td>0</td>\n",
       "      <td>0</td>\n",
       "      <td>1</td>\n",
       "      <td>0</td>\n",
       "      <td>2</td>\n",
       "      <td>1</td>\n",
       "      <td>1</td>\n",
       "      <td>38.0</td>\n",
       "      <td>1.0</td>\n",
       "      <td>0.0</td>\n",
       "    </tr>\n",
       "    <tr>\n",
       "      <th>2</th>\n",
       "      <td>0</td>\n",
       "      <td>0</td>\n",
       "      <td>1</td>\n",
       "      <td>1</td>\n",
       "      <td>0</td>\n",
       "      <td>3</td>\n",
       "      <td>1</td>\n",
       "      <td>3</td>\n",
       "      <td>26.0</td>\n",
       "      <td>0.0</td>\n",
       "      <td>0.0</td>\n",
       "    </tr>\n",
       "    <tr>\n",
       "      <th>3</th>\n",
       "      <td>0</td>\n",
       "      <td>0</td>\n",
       "      <td>1</td>\n",
       "      <td>1</td>\n",
       "      <td>0</td>\n",
       "      <td>4</td>\n",
       "      <td>1</td>\n",
       "      <td>1</td>\n",
       "      <td>35.0</td>\n",
       "      <td>1.0</td>\n",
       "      <td>0.0</td>\n",
       "    </tr>\n",
       "    <tr>\n",
       "      <th>4</th>\n",
       "      <td>0</td>\n",
       "      <td>0</td>\n",
       "      <td>1</td>\n",
       "      <td>0</td>\n",
       "      <td>1</td>\n",
       "      <td>5</td>\n",
       "      <td>0</td>\n",
       "      <td>3</td>\n",
       "      <td>35.0</td>\n",
       "      <td>0.0</td>\n",
       "      <td>0.0</td>\n",
       "    </tr>\n",
       "  </tbody>\n",
       "</table>\n",
       "</div>"
      ],
      "text/plain": [
       "   C  Q  S  female  male  PassengerId  Survived  Pclass   Age  SibSp  Parch\n",
       "0  0  0  1       0     1            1         0       3  22.0    1.0    0.0\n",
       "1  1  0  0       1     0            2         1       1  38.0    1.0    0.0\n",
       "2  0  0  1       1     0            3         1       3  26.0    0.0    0.0\n",
       "3  0  0  1       1     0            4         1       1  35.0    1.0    0.0\n",
       "4  0  0  1       0     1            5         0       3  35.0    0.0    0.0"
      ]
     },
     "execution_count": 37,
     "metadata": {},
     "output_type": "execute_result"
    }
   ],
   "source": [
    "df1.head()"
   ]
  },
  {
   "cell_type": "code",
   "execution_count": 38,
   "id": "173085c7",
   "metadata": {
    "execution": {
     "iopub.execute_input": "2022-12-30T08:28:48.462570Z",
     "iopub.status.busy": "2022-12-30T08:28:48.461106Z",
     "iopub.status.idle": "2022-12-30T08:28:48.483907Z",
     "shell.execute_reply": "2022-12-30T08:28:48.482494Z"
    },
    "papermill": {
     "duration": 0.047232,
     "end_time": "2022-12-30T08:28:48.486330",
     "exception": false,
     "start_time": "2022-12-30T08:28:48.439098",
     "status": "completed"
    },
    "tags": []
   },
   "outputs": [
    {
     "data": {
      "text/html": [
       "<div>\n",
       "<style scoped>\n",
       "    .dataframe tbody tr th:only-of-type {\n",
       "        vertical-align: middle;\n",
       "    }\n",
       "\n",
       "    .dataframe tbody tr th {\n",
       "        vertical-align: top;\n",
       "    }\n",
       "\n",
       "    .dataframe thead th {\n",
       "        text-align: right;\n",
       "    }\n",
       "</style>\n",
       "<table border=\"1\" class=\"dataframe\">\n",
       "  <thead>\n",
       "    <tr style=\"text-align: right;\">\n",
       "      <th></th>\n",
       "      <th>C</th>\n",
       "      <th>Q</th>\n",
       "      <th>S</th>\n",
       "      <th>female</th>\n",
       "      <th>male</th>\n",
       "      <th>PassengerId</th>\n",
       "      <th>Survived</th>\n",
       "      <th>Pclass</th>\n",
       "      <th>Age</th>\n",
       "      <th>SibSp</th>\n",
       "      <th>Parch</th>\n",
       "    </tr>\n",
       "  </thead>\n",
       "  <tbody>\n",
       "    <tr>\n",
       "      <th>C</th>\n",
       "      <td>1.000000</td>\n",
       "      <td>-0.149857</td>\n",
       "      <td>-0.781213</td>\n",
       "      <td>0.086546</td>\n",
       "      <td>-0.086546</td>\n",
       "      <td>-0.005476</td>\n",
       "      <td>0.171485</td>\n",
       "      <td>-0.247223</td>\n",
       "      <td>0.033780</td>\n",
       "      <td>0.032727</td>\n",
       "      <td>0.010243</td>\n",
       "    </tr>\n",
       "    <tr>\n",
       "      <th>Q</th>\n",
       "      <td>-0.149857</td>\n",
       "      <td>1.000000</td>\n",
       "      <td>-0.500146</td>\n",
       "      <td>0.079067</td>\n",
       "      <td>-0.079067</td>\n",
       "      <td>-0.027482</td>\n",
       "      <td>0.008660</td>\n",
       "      <td>0.213504</td>\n",
       "      <td>-0.003904</td>\n",
       "      <td>-0.057785</td>\n",
       "      <td>-0.096687</td>\n",
       "    </tr>\n",
       "    <tr>\n",
       "      <th>S</th>\n",
       "      <td>-0.781213</td>\n",
       "      <td>-0.500146</td>\n",
       "      <td>1.000000</td>\n",
       "      <td>-0.125722</td>\n",
       "      <td>0.125722</td>\n",
       "      <td>0.022148</td>\n",
       "      <td>-0.155660</td>\n",
       "      <td>0.081720</td>\n",
       "      <td>-0.027121</td>\n",
       "      <td>0.007822</td>\n",
       "      <td>0.052077</td>\n",
       "    </tr>\n",
       "    <tr>\n",
       "      <th>female</th>\n",
       "      <td>0.086546</td>\n",
       "      <td>0.079067</td>\n",
       "      <td>-0.125722</td>\n",
       "      <td>1.000000</td>\n",
       "      <td>-1.000000</td>\n",
       "      <td>-0.042939</td>\n",
       "      <td>0.543351</td>\n",
       "      <td>-0.131900</td>\n",
       "      <td>-0.084153</td>\n",
       "      <td>0.203203</td>\n",
       "      <td>0.257096</td>\n",
       "    </tr>\n",
       "    <tr>\n",
       "      <th>male</th>\n",
       "      <td>-0.086546</td>\n",
       "      <td>-0.079067</td>\n",
       "      <td>0.125722</td>\n",
       "      <td>-1.000000</td>\n",
       "      <td>1.000000</td>\n",
       "      <td>0.042939</td>\n",
       "      <td>-0.543351</td>\n",
       "      <td>0.131900</td>\n",
       "      <td>0.084153</td>\n",
       "      <td>-0.203203</td>\n",
       "      <td>-0.257096</td>\n",
       "    </tr>\n",
       "    <tr>\n",
       "      <th>PassengerId</th>\n",
       "      <td>-0.005476</td>\n",
       "      <td>-0.027482</td>\n",
       "      <td>0.022148</td>\n",
       "      <td>-0.042939</td>\n",
       "      <td>0.042939</td>\n",
       "      <td>1.000000</td>\n",
       "      <td>-0.005007</td>\n",
       "      <td>-0.035144</td>\n",
       "      <td>0.033207</td>\n",
       "      <td>-0.053397</td>\n",
       "      <td>0.000348</td>\n",
       "    </tr>\n",
       "    <tr>\n",
       "      <th>Survived</th>\n",
       "      <td>0.171485</td>\n",
       "      <td>0.008660</td>\n",
       "      <td>-0.155660</td>\n",
       "      <td>0.543351</td>\n",
       "      <td>-0.543351</td>\n",
       "      <td>-0.005007</td>\n",
       "      <td>1.000000</td>\n",
       "      <td>-0.338481</td>\n",
       "      <td>-0.069809</td>\n",
       "      <td>0.115867</td>\n",
       "      <td>0.121652</td>\n",
       "    </tr>\n",
       "    <tr>\n",
       "      <th>Pclass</th>\n",
       "      <td>-0.247223</td>\n",
       "      <td>0.213504</td>\n",
       "      <td>0.081720</td>\n",
       "      <td>-0.131900</td>\n",
       "      <td>0.131900</td>\n",
       "      <td>-0.035144</td>\n",
       "      <td>-0.338481</td>\n",
       "      <td>1.000000</td>\n",
       "      <td>-0.331339</td>\n",
       "      <td>-0.076009</td>\n",
       "      <td>-0.006792</td>\n",
       "    </tr>\n",
       "    <tr>\n",
       "      <th>Age</th>\n",
       "      <td>0.033780</td>\n",
       "      <td>-0.003904</td>\n",
       "      <td>-0.027121</td>\n",
       "      <td>-0.084153</td>\n",
       "      <td>0.084153</td>\n",
       "      <td>0.033207</td>\n",
       "      <td>-0.069809</td>\n",
       "      <td>-0.331339</td>\n",
       "      <td>1.000000</td>\n",
       "      <td>-0.148409</td>\n",
       "      <td>-0.237261</td>\n",
       "    </tr>\n",
       "    <tr>\n",
       "      <th>SibSp</th>\n",
       "      <td>0.032727</td>\n",
       "      <td>-0.057785</td>\n",
       "      <td>0.007822</td>\n",
       "      <td>0.203203</td>\n",
       "      <td>-0.203203</td>\n",
       "      <td>-0.053397</td>\n",
       "      <td>0.115867</td>\n",
       "      <td>-0.076009</td>\n",
       "      <td>-0.148409</td>\n",
       "      <td>1.000000</td>\n",
       "      <td>0.404346</td>\n",
       "    </tr>\n",
       "    <tr>\n",
       "      <th>Parch</th>\n",
       "      <td>0.010243</td>\n",
       "      <td>-0.096687</td>\n",
       "      <td>0.052077</td>\n",
       "      <td>0.257096</td>\n",
       "      <td>-0.257096</td>\n",
       "      <td>0.000348</td>\n",
       "      <td>0.121652</td>\n",
       "      <td>-0.006792</td>\n",
       "      <td>-0.237261</td>\n",
       "      <td>0.404346</td>\n",
       "      <td>1.000000</td>\n",
       "    </tr>\n",
       "  </tbody>\n",
       "</table>\n",
       "</div>"
      ],
      "text/plain": [
       "                    C         Q         S    female      male  PassengerId  \\\n",
       "C            1.000000 -0.149857 -0.781213  0.086546 -0.086546    -0.005476   \n",
       "Q           -0.149857  1.000000 -0.500146  0.079067 -0.079067    -0.027482   \n",
       "S           -0.781213 -0.500146  1.000000 -0.125722  0.125722     0.022148   \n",
       "female       0.086546  0.079067 -0.125722  1.000000 -1.000000    -0.042939   \n",
       "male        -0.086546 -0.079067  0.125722 -1.000000  1.000000     0.042939   \n",
       "PassengerId -0.005476 -0.027482  0.022148 -0.042939  0.042939     1.000000   \n",
       "Survived     0.171485  0.008660 -0.155660  0.543351 -0.543351    -0.005007   \n",
       "Pclass      -0.247223  0.213504  0.081720 -0.131900  0.131900    -0.035144   \n",
       "Age          0.033780 -0.003904 -0.027121 -0.084153  0.084153     0.033207   \n",
       "SibSp        0.032727 -0.057785  0.007822  0.203203 -0.203203    -0.053397   \n",
       "Parch        0.010243 -0.096687  0.052077  0.257096 -0.257096     0.000348   \n",
       "\n",
       "             Survived    Pclass       Age     SibSp     Parch  \n",
       "C            0.171485 -0.247223  0.033780  0.032727  0.010243  \n",
       "Q            0.008660  0.213504 -0.003904 -0.057785 -0.096687  \n",
       "S           -0.155660  0.081720 -0.027121  0.007822  0.052077  \n",
       "female       0.543351 -0.131900 -0.084153  0.203203  0.257096  \n",
       "male        -0.543351  0.131900  0.084153 -0.203203 -0.257096  \n",
       "PassengerId -0.005007 -0.035144  0.033207 -0.053397  0.000348  \n",
       "Survived     1.000000 -0.338481 -0.069809  0.115867  0.121652  \n",
       "Pclass      -0.338481  1.000000 -0.331339 -0.076009 -0.006792  \n",
       "Age         -0.069809 -0.331339  1.000000 -0.148409 -0.237261  \n",
       "SibSp        0.115867 -0.076009 -0.148409  1.000000  0.404346  \n",
       "Parch        0.121652 -0.006792 -0.237261  0.404346  1.000000  "
      ]
     },
     "execution_count": 38,
     "metadata": {},
     "output_type": "execute_result"
    }
   ],
   "source": [
    "df1.corr()"
   ]
  },
  {
   "cell_type": "code",
   "execution_count": 39,
   "id": "3b550946",
   "metadata": {
    "execution": {
     "iopub.execute_input": "2022-12-30T08:28:48.530908Z",
     "iopub.status.busy": "2022-12-30T08:28:48.529706Z",
     "iopub.status.idle": "2022-12-30T08:28:48.536741Z",
     "shell.execute_reply": "2022-12-30T08:28:48.535478Z"
    },
    "papermill": {
     "duration": 0.031421,
     "end_time": "2022-12-30T08:28:48.538891",
     "exception": false,
     "start_time": "2022-12-30T08:28:48.507470",
     "status": "completed"
    },
    "tags": []
   },
   "outputs": [],
   "source": [
    "x_train=df1.drop(\"Survived\",axis=1)"
   ]
  },
  {
   "cell_type": "code",
   "execution_count": 40,
   "id": "7b6406b0",
   "metadata": {
    "execution": {
     "iopub.execute_input": "2022-12-30T08:28:48.582212Z",
     "iopub.status.busy": "2022-12-30T08:28:48.581771Z",
     "iopub.status.idle": "2022-12-30T08:28:48.587289Z",
     "shell.execute_reply": "2022-12-30T08:28:48.585890Z"
    },
    "papermill": {
     "duration": 0.029883,
     "end_time": "2022-12-30T08:28:48.589680",
     "exception": false,
     "start_time": "2022-12-30T08:28:48.559797",
     "status": "completed"
    },
    "tags": []
   },
   "outputs": [],
   "source": [
    "y_train=df1.Survived"
   ]
  },
  {
   "cell_type": "code",
   "execution_count": 41,
   "id": "32b16e93",
   "metadata": {
    "execution": {
     "iopub.execute_input": "2022-12-30T08:28:48.633846Z",
     "iopub.status.busy": "2022-12-30T08:28:48.632653Z",
     "iopub.status.idle": "2022-12-30T08:28:48.928373Z",
     "shell.execute_reply": "2022-12-30T08:28:48.926893Z"
    },
    "papermill": {
     "duration": 0.321057,
     "end_time": "2022-12-30T08:28:48.931567",
     "exception": false,
     "start_time": "2022-12-30T08:28:48.610510",
     "status": "completed"
    },
    "tags": []
   },
   "outputs": [
    {
     "name": "stderr",
     "output_type": "stream",
     "text": [
      "/opt/conda/lib/python3.7/site-packages/sklearn/linear_model/_logistic.py:818: ConvergenceWarning: lbfgs failed to converge (status=1):\n",
      "STOP: TOTAL NO. of ITERATIONS REACHED LIMIT.\n",
      "\n",
      "Increase the number of iterations (max_iter) or scale the data as shown in:\n",
      "    https://scikit-learn.org/stable/modules/preprocessing.html\n",
      "Please also refer to the documentation for alternative solver options:\n",
      "    https://scikit-learn.org/stable/modules/linear_model.html#logistic-regression\n",
      "  extra_warning_msg=_LOGISTIC_SOLVER_CONVERGENCE_MSG,\n"
     ]
    },
    {
     "data": {
      "text/plain": [
       "LogisticRegression()"
      ]
     },
     "execution_count": 41,
     "metadata": {},
     "output_type": "execute_result"
    }
   ],
   "source": [
    "from sklearn.linear_model import LogisticRegression\n",
    "model=LogisticRegression()\n",
    "model.fit(x_train,y_train)\n"
   ]
  },
  {
   "cell_type": "code",
   "execution_count": 42,
   "id": "8a802376",
   "metadata": {
    "execution": {
     "iopub.execute_input": "2022-12-30T08:28:48.976127Z",
     "iopub.status.busy": "2022-12-30T08:28:48.975705Z",
     "iopub.status.idle": "2022-12-30T08:28:48.998985Z",
     "shell.execute_reply": "2022-12-30T08:28:48.997853Z"
    },
    "papermill": {
     "duration": 0.04842,
     "end_time": "2022-12-30T08:28:49.001436",
     "exception": false,
     "start_time": "2022-12-30T08:28:48.953016",
     "status": "completed"
    },
    "tags": []
   },
   "outputs": [
    {
     "data": {
      "text/html": [
       "<div>\n",
       "<style scoped>\n",
       "    .dataframe tbody tr th:only-of-type {\n",
       "        vertical-align: middle;\n",
       "    }\n",
       "\n",
       "    .dataframe tbody tr th {\n",
       "        vertical-align: top;\n",
       "    }\n",
       "\n",
       "    .dataframe thead th {\n",
       "        text-align: right;\n",
       "    }\n",
       "</style>\n",
       "<table border=\"1\" class=\"dataframe\">\n",
       "  <thead>\n",
       "    <tr style=\"text-align: right;\">\n",
       "      <th></th>\n",
       "      <th>PassengerId</th>\n",
       "      <th>Pclass</th>\n",
       "      <th>Name</th>\n",
       "      <th>Sex</th>\n",
       "      <th>Age</th>\n",
       "      <th>SibSp</th>\n",
       "      <th>Parch</th>\n",
       "      <th>Ticket</th>\n",
       "      <th>Fare</th>\n",
       "      <th>Cabin</th>\n",
       "      <th>Embarked</th>\n",
       "    </tr>\n",
       "  </thead>\n",
       "  <tbody>\n",
       "    <tr>\n",
       "      <th>0</th>\n",
       "      <td>892</td>\n",
       "      <td>3</td>\n",
       "      <td>Kelly, Mr. James</td>\n",
       "      <td>male</td>\n",
       "      <td>34.5</td>\n",
       "      <td>0</td>\n",
       "      <td>0</td>\n",
       "      <td>330911</td>\n",
       "      <td>7.8292</td>\n",
       "      <td>NaN</td>\n",
       "      <td>Q</td>\n",
       "    </tr>\n",
       "    <tr>\n",
       "      <th>1</th>\n",
       "      <td>893</td>\n",
       "      <td>3</td>\n",
       "      <td>Wilkes, Mrs. James (Ellen Needs)</td>\n",
       "      <td>female</td>\n",
       "      <td>47.0</td>\n",
       "      <td>1</td>\n",
       "      <td>0</td>\n",
       "      <td>363272</td>\n",
       "      <td>7.0000</td>\n",
       "      <td>NaN</td>\n",
       "      <td>S</td>\n",
       "    </tr>\n",
       "    <tr>\n",
       "      <th>2</th>\n",
       "      <td>894</td>\n",
       "      <td>2</td>\n",
       "      <td>Myles, Mr. Thomas Francis</td>\n",
       "      <td>male</td>\n",
       "      <td>62.0</td>\n",
       "      <td>0</td>\n",
       "      <td>0</td>\n",
       "      <td>240276</td>\n",
       "      <td>9.6875</td>\n",
       "      <td>NaN</td>\n",
       "      <td>Q</td>\n",
       "    </tr>\n",
       "    <tr>\n",
       "      <th>3</th>\n",
       "      <td>895</td>\n",
       "      <td>3</td>\n",
       "      <td>Wirz, Mr. Albert</td>\n",
       "      <td>male</td>\n",
       "      <td>27.0</td>\n",
       "      <td>0</td>\n",
       "      <td>0</td>\n",
       "      <td>315154</td>\n",
       "      <td>8.6625</td>\n",
       "      <td>NaN</td>\n",
       "      <td>S</td>\n",
       "    </tr>\n",
       "    <tr>\n",
       "      <th>4</th>\n",
       "      <td>896</td>\n",
       "      <td>3</td>\n",
       "      <td>Hirvonen, Mrs. Alexander (Helga E Lindqvist)</td>\n",
       "      <td>female</td>\n",
       "      <td>22.0</td>\n",
       "      <td>1</td>\n",
       "      <td>1</td>\n",
       "      <td>3101298</td>\n",
       "      <td>12.2875</td>\n",
       "      <td>NaN</td>\n",
       "      <td>S</td>\n",
       "    </tr>\n",
       "  </tbody>\n",
       "</table>\n",
       "</div>"
      ],
      "text/plain": [
       "   PassengerId  Pclass                                          Name     Sex  \\\n",
       "0          892       3                              Kelly, Mr. James    male   \n",
       "1          893       3              Wilkes, Mrs. James (Ellen Needs)  female   \n",
       "2          894       2                     Myles, Mr. Thomas Francis    male   \n",
       "3          895       3                              Wirz, Mr. Albert    male   \n",
       "4          896       3  Hirvonen, Mrs. Alexander (Helga E Lindqvist)  female   \n",
       "\n",
       "    Age  SibSp  Parch   Ticket     Fare Cabin Embarked  \n",
       "0  34.5      0      0   330911   7.8292   NaN        Q  \n",
       "1  47.0      1      0   363272   7.0000   NaN        S  \n",
       "2  62.0      0      0   240276   9.6875   NaN        Q  \n",
       "3  27.0      0      0   315154   8.6625   NaN        S  \n",
       "4  22.0      1      1  3101298  12.2875   NaN        S  "
      ]
     },
     "execution_count": 42,
     "metadata": {},
     "output_type": "execute_result"
    }
   ],
   "source": [
    "df2=pd.read_csv(\"/kaggle/input/titanic/test.csv\")\n",
    "df2.head()"
   ]
  },
  {
   "cell_type": "code",
   "execution_count": 43,
   "id": "fd8a6a9d",
   "metadata": {
    "execution": {
     "iopub.execute_input": "2022-12-30T08:28:49.047651Z",
     "iopub.status.busy": "2022-12-30T08:28:49.047198Z",
     "iopub.status.idle": "2022-12-30T08:28:49.061969Z",
     "shell.execute_reply": "2022-12-30T08:28:49.060726Z"
    },
    "papermill": {
     "duration": 0.041296,
     "end_time": "2022-12-30T08:28:49.064465",
     "exception": false,
     "start_time": "2022-12-30T08:28:49.023169",
     "status": "completed"
    },
    "tags": []
   },
   "outputs": [
    {
     "name": "stdout",
     "output_type": "stream",
     "text": [
      "<class 'pandas.core.frame.DataFrame'>\n",
      "RangeIndex: 418 entries, 0 to 417\n",
      "Data columns (total 11 columns):\n",
      " #   Column       Non-Null Count  Dtype  \n",
      "---  ------       --------------  -----  \n",
      " 0   PassengerId  418 non-null    int64  \n",
      " 1   Pclass       418 non-null    int64  \n",
      " 2   Name         418 non-null    object \n",
      " 3   Sex          418 non-null    object \n",
      " 4   Age          332 non-null    float64\n",
      " 5   SibSp        418 non-null    int64  \n",
      " 6   Parch        418 non-null    int64  \n",
      " 7   Ticket       418 non-null    object \n",
      " 8   Fare         417 non-null    float64\n",
      " 9   Cabin        91 non-null     object \n",
      " 10  Embarked     418 non-null    object \n",
      "dtypes: float64(2), int64(4), object(5)\n",
      "memory usage: 36.0+ KB\n"
     ]
    }
   ],
   "source": [
    "df2.info()"
   ]
  },
  {
   "cell_type": "code",
   "execution_count": 44,
   "id": "13929c4c",
   "metadata": {
    "execution": {
     "iopub.execute_input": "2022-12-30T08:28:49.110883Z",
     "iopub.status.busy": "2022-12-30T08:28:49.110354Z",
     "iopub.status.idle": "2022-12-30T08:28:49.117592Z",
     "shell.execute_reply": "2022-12-30T08:28:49.116449Z"
    },
    "papermill": {
     "duration": 0.033552,
     "end_time": "2022-12-30T08:28:49.119772",
     "exception": false,
     "start_time": "2022-12-30T08:28:49.086220",
     "status": "completed"
    },
    "tags": []
   },
   "outputs": [
    {
     "data": {
      "text/plain": [
       "(418, 11)"
      ]
     },
     "execution_count": 44,
     "metadata": {},
     "output_type": "execute_result"
    }
   ],
   "source": [
    "df2.shape"
   ]
  },
  {
   "cell_type": "code",
   "execution_count": 45,
   "id": "9748d2eb",
   "metadata": {
    "execution": {
     "iopub.execute_input": "2022-12-30T08:28:49.165713Z",
     "iopub.status.busy": "2022-12-30T08:28:49.165271Z",
     "iopub.status.idle": "2022-12-30T08:28:49.174282Z",
     "shell.execute_reply": "2022-12-30T08:28:49.173160Z"
    },
    "papermill": {
     "duration": 0.034672,
     "end_time": "2022-12-30T08:28:49.176594",
     "exception": false,
     "start_time": "2022-12-30T08:28:49.141922",
     "status": "completed"
    },
    "tags": []
   },
   "outputs": [
    {
     "data": {
      "text/plain": [
       "0"
      ]
     },
     "execution_count": 45,
     "metadata": {},
     "output_type": "execute_result"
    }
   ],
   "source": [
    "df2.duplicated().sum()"
   ]
  },
  {
   "cell_type": "code",
   "execution_count": 46,
   "id": "2a19f5b9",
   "metadata": {
    "execution": {
     "iopub.execute_input": "2022-12-30T08:28:49.222045Z",
     "iopub.status.busy": "2022-12-30T08:28:49.221263Z",
     "iopub.status.idle": "2022-12-30T08:28:49.227786Z",
     "shell.execute_reply": "2022-12-30T08:28:49.226648Z"
    },
    "papermill": {
     "duration": 0.031924,
     "end_time": "2022-12-30T08:28:49.230243",
     "exception": false,
     "start_time": "2022-12-30T08:28:49.198319",
     "status": "completed"
    },
    "tags": []
   },
   "outputs": [],
   "source": [
    "df2.drop(columns=[\"Name\",\"Ticket\",\"Fare\",\"Cabin\"],axis=1,inplace=True)\n"
   ]
  },
  {
   "cell_type": "code",
   "execution_count": 47,
   "id": "f3c1cf1e",
   "metadata": {
    "execution": {
     "iopub.execute_input": "2022-12-30T08:28:49.277291Z",
     "iopub.status.busy": "2022-12-30T08:28:49.276470Z",
     "iopub.status.idle": "2022-12-30T08:28:49.289477Z",
     "shell.execute_reply": "2022-12-30T08:28:49.288575Z"
    },
    "papermill": {
     "duration": 0.038892,
     "end_time": "2022-12-30T08:28:49.291658",
     "exception": false,
     "start_time": "2022-12-30T08:28:49.252766",
     "status": "completed"
    },
    "tags": []
   },
   "outputs": [
    {
     "data": {
      "text/html": [
       "<div>\n",
       "<style scoped>\n",
       "    .dataframe tbody tr th:only-of-type {\n",
       "        vertical-align: middle;\n",
       "    }\n",
       "\n",
       "    .dataframe tbody tr th {\n",
       "        vertical-align: top;\n",
       "    }\n",
       "\n",
       "    .dataframe thead th {\n",
       "        text-align: right;\n",
       "    }\n",
       "</style>\n",
       "<table border=\"1\" class=\"dataframe\">\n",
       "  <thead>\n",
       "    <tr style=\"text-align: right;\">\n",
       "      <th></th>\n",
       "      <th>PassengerId</th>\n",
       "      <th>Pclass</th>\n",
       "      <th>Sex</th>\n",
       "      <th>Age</th>\n",
       "      <th>SibSp</th>\n",
       "      <th>Parch</th>\n",
       "      <th>Embarked</th>\n",
       "    </tr>\n",
       "  </thead>\n",
       "  <tbody>\n",
       "    <tr>\n",
       "      <th>0</th>\n",
       "      <td>892</td>\n",
       "      <td>3</td>\n",
       "      <td>male</td>\n",
       "      <td>34.5</td>\n",
       "      <td>0</td>\n",
       "      <td>0</td>\n",
       "      <td>Q</td>\n",
       "    </tr>\n",
       "    <tr>\n",
       "      <th>1</th>\n",
       "      <td>893</td>\n",
       "      <td>3</td>\n",
       "      <td>female</td>\n",
       "      <td>47.0</td>\n",
       "      <td>1</td>\n",
       "      <td>0</td>\n",
       "      <td>S</td>\n",
       "    </tr>\n",
       "    <tr>\n",
       "      <th>2</th>\n",
       "      <td>894</td>\n",
       "      <td>2</td>\n",
       "      <td>male</td>\n",
       "      <td>62.0</td>\n",
       "      <td>0</td>\n",
       "      <td>0</td>\n",
       "      <td>Q</td>\n",
       "    </tr>\n",
       "    <tr>\n",
       "      <th>3</th>\n",
       "      <td>895</td>\n",
       "      <td>3</td>\n",
       "      <td>male</td>\n",
       "      <td>27.0</td>\n",
       "      <td>0</td>\n",
       "      <td>0</td>\n",
       "      <td>S</td>\n",
       "    </tr>\n",
       "    <tr>\n",
       "      <th>4</th>\n",
       "      <td>896</td>\n",
       "      <td>3</td>\n",
       "      <td>female</td>\n",
       "      <td>22.0</td>\n",
       "      <td>1</td>\n",
       "      <td>1</td>\n",
       "      <td>S</td>\n",
       "    </tr>\n",
       "  </tbody>\n",
       "</table>\n",
       "</div>"
      ],
      "text/plain": [
       "   PassengerId  Pclass     Sex   Age  SibSp  Parch Embarked\n",
       "0          892       3    male  34.5      0      0        Q\n",
       "1          893       3  female  47.0      1      0        S\n",
       "2          894       2    male  62.0      0      0        Q\n",
       "3          895       3    male  27.0      0      0        S\n",
       "4          896       3  female  22.0      1      1        S"
      ]
     },
     "execution_count": 47,
     "metadata": {},
     "output_type": "execute_result"
    }
   ],
   "source": [
    "df2.head()"
   ]
  },
  {
   "cell_type": "code",
   "execution_count": 48,
   "id": "3364a268",
   "metadata": {
    "execution": {
     "iopub.execute_input": "2022-12-30T08:28:49.338070Z",
     "iopub.status.busy": "2022-12-30T08:28:49.337677Z",
     "iopub.status.idle": "2022-12-30T08:28:49.347504Z",
     "shell.execute_reply": "2022-12-30T08:28:49.346423Z"
    },
    "papermill": {
     "duration": 0.035767,
     "end_time": "2022-12-30T08:28:49.349967",
     "exception": false,
     "start_time": "2022-12-30T08:28:49.314200",
     "status": "completed"
    },
    "tags": []
   },
   "outputs": [
    {
     "data": {
      "text/plain": [
       "PassengerId     0\n",
       "Pclass          0\n",
       "Sex             0\n",
       "Age            86\n",
       "SibSp           0\n",
       "Parch           0\n",
       "Embarked        0\n",
       "dtype: int64"
      ]
     },
     "execution_count": 48,
     "metadata": {},
     "output_type": "execute_result"
    }
   ],
   "source": [
    "df2.isnull().sum()"
   ]
  },
  {
   "cell_type": "code",
   "execution_count": 49,
   "id": "f20b570b",
   "metadata": {
    "execution": {
     "iopub.execute_input": "2022-12-30T08:28:49.396430Z",
     "iopub.status.busy": "2022-12-30T08:28:49.395477Z",
     "iopub.status.idle": "2022-12-30T08:28:49.403855Z",
     "shell.execute_reply": "2022-12-30T08:28:49.402729Z"
    },
    "papermill": {
     "duration": 0.033713,
     "end_time": "2022-12-30T08:28:49.406066",
     "exception": false,
     "start_time": "2022-12-30T08:28:49.372353",
     "status": "completed"
    },
    "tags": []
   },
   "outputs": [
    {
     "data": {
      "text/plain": [
       "30.272590361445783"
      ]
     },
     "execution_count": 49,
     "metadata": {},
     "output_type": "execute_result"
    }
   ],
   "source": [
    "df2[\"Age\"].mean()"
   ]
  },
  {
   "cell_type": "code",
   "execution_count": 50,
   "id": "54d1d707",
   "metadata": {
    "execution": {
     "iopub.execute_input": "2022-12-30T08:28:49.452640Z",
     "iopub.status.busy": "2022-12-30T08:28:49.451704Z",
     "iopub.status.idle": "2022-12-30T08:28:49.459500Z",
     "shell.execute_reply": "2022-12-30T08:28:49.458540Z"
    },
    "papermill": {
     "duration": 0.033524,
     "end_time": "2022-12-30T08:28:49.461728",
     "exception": false,
     "start_time": "2022-12-30T08:28:49.428204",
     "status": "completed"
    },
    "tags": []
   },
   "outputs": [
    {
     "data": {
      "text/plain": [
       "27.0"
      ]
     },
     "execution_count": 50,
     "metadata": {},
     "output_type": "execute_result"
    }
   ],
   "source": [
    "df2[\"Age\"].median()"
   ]
  },
  {
   "cell_type": "code",
   "execution_count": 51,
   "id": "8542ee7a",
   "metadata": {
    "execution": {
     "iopub.execute_input": "2022-12-30T08:28:49.507978Z",
     "iopub.status.busy": "2022-12-30T08:28:49.507535Z",
     "iopub.status.idle": "2022-12-30T08:28:49.514086Z",
     "shell.execute_reply": "2022-12-30T08:28:49.512890Z"
    },
    "papermill": {
     "duration": 0.032345,
     "end_time": "2022-12-30T08:28:49.516425",
     "exception": false,
     "start_time": "2022-12-30T08:28:49.484080",
     "status": "completed"
    },
    "tags": []
   },
   "outputs": [],
   "source": [
    "df2[\"Age\"].fillna(df2[\"Age\"].median(),inplace=True)"
   ]
  },
  {
   "cell_type": "code",
   "execution_count": 52,
   "id": "b5e93c5d",
   "metadata": {
    "execution": {
     "iopub.execute_input": "2022-12-30T08:28:49.562723Z",
     "iopub.status.busy": "2022-12-30T08:28:49.562259Z",
     "iopub.status.idle": "2022-12-30T08:28:49.572181Z",
     "shell.execute_reply": "2022-12-30T08:28:49.571207Z"
    },
    "papermill": {
     "duration": 0.035728,
     "end_time": "2022-12-30T08:28:49.574414",
     "exception": false,
     "start_time": "2022-12-30T08:28:49.538686",
     "status": "completed"
    },
    "tags": []
   },
   "outputs": [
    {
     "data": {
      "text/plain": [
       "PassengerId    0\n",
       "Pclass         0\n",
       "Sex            0\n",
       "Age            0\n",
       "SibSp          0\n",
       "Parch          0\n",
       "Embarked       0\n",
       "dtype: int64"
      ]
     },
     "execution_count": 52,
     "metadata": {},
     "output_type": "execute_result"
    }
   ],
   "source": [
    "df2.isnull().sum()"
   ]
  },
  {
   "cell_type": "code",
   "execution_count": 53,
   "id": "0979eab9",
   "metadata": {
    "execution": {
     "iopub.execute_input": "2022-12-30T08:28:49.621725Z",
     "iopub.status.busy": "2022-12-30T08:28:49.620497Z",
     "iopub.status.idle": "2022-12-30T08:28:49.632131Z",
     "shell.execute_reply": "2022-12-30T08:28:49.630392Z"
    },
    "papermill": {
     "duration": 0.038087,
     "end_time": "2022-12-30T08:28:49.634906",
     "exception": false,
     "start_time": "2022-12-30T08:28:49.596819",
     "status": "completed"
    },
    "tags": []
   },
   "outputs": [
    {
     "name": "stderr",
     "output_type": "stream",
     "text": [
      "/opt/conda/lib/python3.7/site-packages/ipykernel_launcher.py:1: FutureWarning: Dropping of nuisance columns in DataFrame reductions (with 'numeric_only=None') is deprecated; in a future version this will raise TypeError.  Select only valid columns before calling the reduction.\n",
      "  \"\"\"Entry point for launching an IPython kernel.\n"
     ]
    },
    {
     "data": {
      "text/plain": [
       "PassengerId    0.000000\n",
       "Pclass        -0.534170\n",
       "Age            0.660747\n",
       "SibSp          4.168337\n",
       "Parch          4.654462\n",
       "dtype: float64"
      ]
     },
     "execution_count": 53,
     "metadata": {},
     "output_type": "execute_result"
    }
   ],
   "source": [
    "df2.skew()"
   ]
  },
  {
   "cell_type": "code",
   "execution_count": 54,
   "id": "2ace2406",
   "metadata": {
    "execution": {
     "iopub.execute_input": "2022-12-30T08:28:49.682085Z",
     "iopub.status.busy": "2022-12-30T08:28:49.681687Z",
     "iopub.status.idle": "2022-12-30T08:28:49.687189Z",
     "shell.execute_reply": "2022-12-30T08:28:49.686085Z"
    },
    "papermill": {
     "duration": 0.031642,
     "end_time": "2022-12-30T08:28:49.689386",
     "exception": false,
     "start_time": "2022-12-30T08:28:49.657744",
     "status": "completed"
    },
    "tags": []
   },
   "outputs": [],
   "source": [
    "df2[\"SibSp\"]=np.sqrt(df2[\"SibSp\"])"
   ]
  },
  {
   "cell_type": "code",
   "execution_count": 55,
   "id": "f09c5296",
   "metadata": {
    "execution": {
     "iopub.execute_input": "2022-12-30T08:28:49.736276Z",
     "iopub.status.busy": "2022-12-30T08:28:49.735869Z",
     "iopub.status.idle": "2022-12-30T08:28:49.743507Z",
     "shell.execute_reply": "2022-12-30T08:28:49.742323Z"
    },
    "papermill": {
     "duration": 0.033886,
     "end_time": "2022-12-30T08:28:49.745738",
     "exception": false,
     "start_time": "2022-12-30T08:28:49.711852",
     "status": "completed"
    },
    "tags": []
   },
   "outputs": [
    {
     "data": {
      "text/plain": [
       "1.291589637233114"
      ]
     },
     "execution_count": 55,
     "metadata": {},
     "output_type": "execute_result"
    }
   ],
   "source": [
    "df2[\"SibSp\"].skew()"
   ]
  },
  {
   "cell_type": "code",
   "execution_count": 56,
   "id": "26abac6d",
   "metadata": {
    "execution": {
     "iopub.execute_input": "2022-12-30T08:28:49.793489Z",
     "iopub.status.busy": "2022-12-30T08:28:49.792416Z",
     "iopub.status.idle": "2022-12-30T08:28:49.801732Z",
     "shell.execute_reply": "2022-12-30T08:28:49.800516Z"
    },
    "papermill": {
     "duration": 0.035324,
     "end_time": "2022-12-30T08:28:49.803880",
     "exception": false,
     "start_time": "2022-12-30T08:28:49.768556",
     "status": "completed"
    },
    "tags": []
   },
   "outputs": [
    {
     "data": {
      "text/plain": [
       "1.8791559278126866"
      ]
     },
     "execution_count": 56,
     "metadata": {},
     "output_type": "execute_result"
    }
   ],
   "source": [
    "df2[\"Parch\"]=np.sqrt(df2[\"Parch\"])\n",
    "df2[\"Parch\"].skew()"
   ]
  },
  {
   "cell_type": "code",
   "execution_count": 57,
   "id": "268bdf83",
   "metadata": {
    "execution": {
     "iopub.execute_input": "2022-12-30T08:28:49.851701Z",
     "iopub.status.busy": "2022-12-30T08:28:49.850917Z",
     "iopub.status.idle": "2022-12-30T08:28:49.860788Z",
     "shell.execute_reply": "2022-12-30T08:28:49.859389Z"
    },
    "papermill": {
     "duration": 0.036673,
     "end_time": "2022-12-30T08:28:49.863499",
     "exception": false,
     "start_time": "2022-12-30T08:28:49.826826",
     "status": "completed"
    },
    "tags": []
   },
   "outputs": [
    {
     "name": "stderr",
     "output_type": "stream",
     "text": [
      "/opt/conda/lib/python3.7/site-packages/ipykernel_launcher.py:1: FutureWarning: Dropping of nuisance columns in DataFrame reductions (with 'numeric_only=None') is deprecated; in a future version this will raise TypeError.  Select only valid columns before calling the reduction.\n",
      "  \"\"\"Entry point for launching an IPython kernel.\n"
     ]
    },
    {
     "data": {
      "text/plain": [
       "PassengerId    0.000000\n",
       "Pclass        -0.534170\n",
       "Age            0.660747\n",
       "SibSp          1.291590\n",
       "Parch          1.879156\n",
       "dtype: float64"
      ]
     },
     "execution_count": 57,
     "metadata": {},
     "output_type": "execute_result"
    }
   ],
   "source": [
    "df2.skew()"
   ]
  },
  {
   "cell_type": "code",
   "execution_count": 58,
   "id": "3ad26ba3",
   "metadata": {
    "execution": {
     "iopub.execute_input": "2022-12-30T08:28:49.911327Z",
     "iopub.status.busy": "2022-12-30T08:28:49.910930Z",
     "iopub.status.idle": "2022-12-30T08:28:49.921530Z",
     "shell.execute_reply": "2022-12-30T08:28:49.920540Z"
    },
    "papermill": {
     "duration": 0.037111,
     "end_time": "2022-12-30T08:28:49.923777",
     "exception": false,
     "start_time": "2022-12-30T08:28:49.886666",
     "status": "completed"
    },
    "tags": []
   },
   "outputs": [
    {
     "data": {
      "text/html": [
       "<div>\n",
       "<style scoped>\n",
       "    .dataframe tbody tr th:only-of-type {\n",
       "        vertical-align: middle;\n",
       "    }\n",
       "\n",
       "    .dataframe tbody tr th {\n",
       "        vertical-align: top;\n",
       "    }\n",
       "\n",
       "    .dataframe thead th {\n",
       "        text-align: right;\n",
       "    }\n",
       "</style>\n",
       "<table border=\"1\" class=\"dataframe\">\n",
       "  <thead>\n",
       "    <tr style=\"text-align: right;\">\n",
       "      <th></th>\n",
       "      <th>female</th>\n",
       "      <th>male</th>\n",
       "    </tr>\n",
       "  </thead>\n",
       "  <tbody>\n",
       "    <tr>\n",
       "      <th>0</th>\n",
       "      <td>0</td>\n",
       "      <td>1</td>\n",
       "    </tr>\n",
       "    <tr>\n",
       "      <th>1</th>\n",
       "      <td>1</td>\n",
       "      <td>0</td>\n",
       "    </tr>\n",
       "    <tr>\n",
       "      <th>2</th>\n",
       "      <td>0</td>\n",
       "      <td>1</td>\n",
       "    </tr>\n",
       "    <tr>\n",
       "      <th>3</th>\n",
       "      <td>0</td>\n",
       "      <td>1</td>\n",
       "    </tr>\n",
       "    <tr>\n",
       "      <th>4</th>\n",
       "      <td>1</td>\n",
       "      <td>0</td>\n",
       "    </tr>\n",
       "  </tbody>\n",
       "</table>\n",
       "</div>"
      ],
      "text/plain": [
       "   female  male\n",
       "0       0     1\n",
       "1       1     0\n",
       "2       0     1\n",
       "3       0     1\n",
       "4       1     0"
      ]
     },
     "execution_count": 58,
     "metadata": {},
     "output_type": "execute_result"
    }
   ],
   "source": [
    "dummies=pd.get_dummies(df2.Sex)\n",
    "dummies.head()"
   ]
  },
  {
   "cell_type": "code",
   "execution_count": 59,
   "id": "f81a1e98",
   "metadata": {
    "execution": {
     "iopub.execute_input": "2022-12-30T08:28:49.971923Z",
     "iopub.status.busy": "2022-12-30T08:28:49.971482Z",
     "iopub.status.idle": "2022-12-30T08:28:49.988613Z",
     "shell.execute_reply": "2022-12-30T08:28:49.987191Z"
    },
    "papermill": {
     "duration": 0.044112,
     "end_time": "2022-12-30T08:28:49.991053",
     "exception": false,
     "start_time": "2022-12-30T08:28:49.946941",
     "status": "completed"
    },
    "tags": []
   },
   "outputs": [
    {
     "data": {
      "text/html": [
       "<div>\n",
       "<style scoped>\n",
       "    .dataframe tbody tr th:only-of-type {\n",
       "        vertical-align: middle;\n",
       "    }\n",
       "\n",
       "    .dataframe tbody tr th {\n",
       "        vertical-align: top;\n",
       "    }\n",
       "\n",
       "    .dataframe thead th {\n",
       "        text-align: right;\n",
       "    }\n",
       "</style>\n",
       "<table border=\"1\" class=\"dataframe\">\n",
       "  <thead>\n",
       "    <tr style=\"text-align: right;\">\n",
       "      <th></th>\n",
       "      <th>female</th>\n",
       "      <th>male</th>\n",
       "      <th>PassengerId</th>\n",
       "      <th>Pclass</th>\n",
       "      <th>Sex</th>\n",
       "      <th>Age</th>\n",
       "      <th>SibSp</th>\n",
       "      <th>Parch</th>\n",
       "      <th>Embarked</th>\n",
       "    </tr>\n",
       "  </thead>\n",
       "  <tbody>\n",
       "    <tr>\n",
       "      <th>0</th>\n",
       "      <td>0</td>\n",
       "      <td>1</td>\n",
       "      <td>892</td>\n",
       "      <td>3</td>\n",
       "      <td>male</td>\n",
       "      <td>34.5</td>\n",
       "      <td>0.0</td>\n",
       "      <td>0.0</td>\n",
       "      <td>Q</td>\n",
       "    </tr>\n",
       "    <tr>\n",
       "      <th>1</th>\n",
       "      <td>1</td>\n",
       "      <td>0</td>\n",
       "      <td>893</td>\n",
       "      <td>3</td>\n",
       "      <td>female</td>\n",
       "      <td>47.0</td>\n",
       "      <td>1.0</td>\n",
       "      <td>0.0</td>\n",
       "      <td>S</td>\n",
       "    </tr>\n",
       "    <tr>\n",
       "      <th>2</th>\n",
       "      <td>0</td>\n",
       "      <td>1</td>\n",
       "      <td>894</td>\n",
       "      <td>2</td>\n",
       "      <td>male</td>\n",
       "      <td>62.0</td>\n",
       "      <td>0.0</td>\n",
       "      <td>0.0</td>\n",
       "      <td>Q</td>\n",
       "    </tr>\n",
       "    <tr>\n",
       "      <th>3</th>\n",
       "      <td>0</td>\n",
       "      <td>1</td>\n",
       "      <td>895</td>\n",
       "      <td>3</td>\n",
       "      <td>male</td>\n",
       "      <td>27.0</td>\n",
       "      <td>0.0</td>\n",
       "      <td>0.0</td>\n",
       "      <td>S</td>\n",
       "    </tr>\n",
       "    <tr>\n",
       "      <th>4</th>\n",
       "      <td>1</td>\n",
       "      <td>0</td>\n",
       "      <td>896</td>\n",
       "      <td>3</td>\n",
       "      <td>female</td>\n",
       "      <td>22.0</td>\n",
       "      <td>1.0</td>\n",
       "      <td>1.0</td>\n",
       "      <td>S</td>\n",
       "    </tr>\n",
       "  </tbody>\n",
       "</table>\n",
       "</div>"
      ],
      "text/plain": [
       "   female  male  PassengerId  Pclass     Sex   Age  SibSp  Parch Embarked\n",
       "0       0     1          892       3    male  34.5    0.0    0.0        Q\n",
       "1       1     0          893       3  female  47.0    1.0    0.0        S\n",
       "2       0     1          894       2    male  62.0    0.0    0.0        Q\n",
       "3       0     1          895       3    male  27.0    0.0    0.0        S\n",
       "4       1     0          896       3  female  22.0    1.0    1.0        S"
      ]
     },
     "execution_count": 59,
     "metadata": {},
     "output_type": "execute_result"
    }
   ],
   "source": [
    "df2=pd.concat([dummies,df2],axis=1)\n",
    "df2.head()"
   ]
  },
  {
   "cell_type": "code",
   "execution_count": 60,
   "id": "0b74dbdf",
   "metadata": {
    "execution": {
     "iopub.execute_input": "2022-12-30T08:28:50.041083Z",
     "iopub.status.busy": "2022-12-30T08:28:50.040645Z",
     "iopub.status.idle": "2022-12-30T08:28:50.047992Z",
     "shell.execute_reply": "2022-12-30T08:28:50.046893Z"
    },
    "papermill": {
     "duration": 0.034572,
     "end_time": "2022-12-30T08:28:50.050205",
     "exception": false,
     "start_time": "2022-12-30T08:28:50.015633",
     "status": "completed"
    },
    "tags": []
   },
   "outputs": [],
   "source": [
    "df2.drop(\"Sex\",axis=1,inplace=True)"
   ]
  },
  {
   "cell_type": "code",
   "execution_count": 61,
   "id": "daf46311",
   "metadata": {
    "execution": {
     "iopub.execute_input": "2022-12-30T08:28:50.100132Z",
     "iopub.status.busy": "2022-12-30T08:28:50.099705Z",
     "iopub.status.idle": "2022-12-30T08:28:50.110875Z",
     "shell.execute_reply": "2022-12-30T08:28:50.110084Z"
    },
    "papermill": {
     "duration": 0.038604,
     "end_time": "2022-12-30T08:28:50.112937",
     "exception": false,
     "start_time": "2022-12-30T08:28:50.074333",
     "status": "completed"
    },
    "tags": []
   },
   "outputs": [
    {
     "data": {
      "text/html": [
       "<div>\n",
       "<style scoped>\n",
       "    .dataframe tbody tr th:only-of-type {\n",
       "        vertical-align: middle;\n",
       "    }\n",
       "\n",
       "    .dataframe tbody tr th {\n",
       "        vertical-align: top;\n",
       "    }\n",
       "\n",
       "    .dataframe thead th {\n",
       "        text-align: right;\n",
       "    }\n",
       "</style>\n",
       "<table border=\"1\" class=\"dataframe\">\n",
       "  <thead>\n",
       "    <tr style=\"text-align: right;\">\n",
       "      <th></th>\n",
       "      <th>C</th>\n",
       "      <th>Q</th>\n",
       "      <th>S</th>\n",
       "    </tr>\n",
       "  </thead>\n",
       "  <tbody>\n",
       "    <tr>\n",
       "      <th>0</th>\n",
       "      <td>0</td>\n",
       "      <td>1</td>\n",
       "      <td>0</td>\n",
       "    </tr>\n",
       "    <tr>\n",
       "      <th>1</th>\n",
       "      <td>0</td>\n",
       "      <td>0</td>\n",
       "      <td>1</td>\n",
       "    </tr>\n",
       "    <tr>\n",
       "      <th>2</th>\n",
       "      <td>0</td>\n",
       "      <td>1</td>\n",
       "      <td>0</td>\n",
       "    </tr>\n",
       "    <tr>\n",
       "      <th>3</th>\n",
       "      <td>0</td>\n",
       "      <td>0</td>\n",
       "      <td>1</td>\n",
       "    </tr>\n",
       "    <tr>\n",
       "      <th>4</th>\n",
       "      <td>0</td>\n",
       "      <td>0</td>\n",
       "      <td>1</td>\n",
       "    </tr>\n",
       "  </tbody>\n",
       "</table>\n",
       "</div>"
      ],
      "text/plain": [
       "   C  Q  S\n",
       "0  0  1  0\n",
       "1  0  0  1\n",
       "2  0  1  0\n",
       "3  0  0  1\n",
       "4  0  0  1"
      ]
     },
     "execution_count": 61,
     "metadata": {},
     "output_type": "execute_result"
    }
   ],
   "source": [
    "dummies=pd.get_dummies(df2.Embarked)\n",
    "dummies.head()"
   ]
  },
  {
   "cell_type": "code",
   "execution_count": 62,
   "id": "1190f207",
   "metadata": {
    "execution": {
     "iopub.execute_input": "2022-12-30T08:28:50.162261Z",
     "iopub.status.busy": "2022-12-30T08:28:50.161216Z",
     "iopub.status.idle": "2022-12-30T08:28:50.178968Z",
     "shell.execute_reply": "2022-12-30T08:28:50.177846Z"
    },
    "papermill": {
     "duration": 0.044534,
     "end_time": "2022-12-30T08:28:50.181089",
     "exception": false,
     "start_time": "2022-12-30T08:28:50.136555",
     "status": "completed"
    },
    "tags": []
   },
   "outputs": [
    {
     "data": {
      "text/html": [
       "<div>\n",
       "<style scoped>\n",
       "    .dataframe tbody tr th:only-of-type {\n",
       "        vertical-align: middle;\n",
       "    }\n",
       "\n",
       "    .dataframe tbody tr th {\n",
       "        vertical-align: top;\n",
       "    }\n",
       "\n",
       "    .dataframe thead th {\n",
       "        text-align: right;\n",
       "    }\n",
       "</style>\n",
       "<table border=\"1\" class=\"dataframe\">\n",
       "  <thead>\n",
       "    <tr style=\"text-align: right;\">\n",
       "      <th></th>\n",
       "      <th>C</th>\n",
       "      <th>Q</th>\n",
       "      <th>S</th>\n",
       "      <th>female</th>\n",
       "      <th>male</th>\n",
       "      <th>PassengerId</th>\n",
       "      <th>Pclass</th>\n",
       "      <th>Age</th>\n",
       "      <th>SibSp</th>\n",
       "      <th>Parch</th>\n",
       "      <th>Embarked</th>\n",
       "    </tr>\n",
       "  </thead>\n",
       "  <tbody>\n",
       "    <tr>\n",
       "      <th>0</th>\n",
       "      <td>0</td>\n",
       "      <td>1</td>\n",
       "      <td>0</td>\n",
       "      <td>0</td>\n",
       "      <td>1</td>\n",
       "      <td>892</td>\n",
       "      <td>3</td>\n",
       "      <td>34.5</td>\n",
       "      <td>0.0</td>\n",
       "      <td>0.0</td>\n",
       "      <td>Q</td>\n",
       "    </tr>\n",
       "    <tr>\n",
       "      <th>1</th>\n",
       "      <td>0</td>\n",
       "      <td>0</td>\n",
       "      <td>1</td>\n",
       "      <td>1</td>\n",
       "      <td>0</td>\n",
       "      <td>893</td>\n",
       "      <td>3</td>\n",
       "      <td>47.0</td>\n",
       "      <td>1.0</td>\n",
       "      <td>0.0</td>\n",
       "      <td>S</td>\n",
       "    </tr>\n",
       "    <tr>\n",
       "      <th>2</th>\n",
       "      <td>0</td>\n",
       "      <td>1</td>\n",
       "      <td>0</td>\n",
       "      <td>0</td>\n",
       "      <td>1</td>\n",
       "      <td>894</td>\n",
       "      <td>2</td>\n",
       "      <td>62.0</td>\n",
       "      <td>0.0</td>\n",
       "      <td>0.0</td>\n",
       "      <td>Q</td>\n",
       "    </tr>\n",
       "    <tr>\n",
       "      <th>3</th>\n",
       "      <td>0</td>\n",
       "      <td>0</td>\n",
       "      <td>1</td>\n",
       "      <td>0</td>\n",
       "      <td>1</td>\n",
       "      <td>895</td>\n",
       "      <td>3</td>\n",
       "      <td>27.0</td>\n",
       "      <td>0.0</td>\n",
       "      <td>0.0</td>\n",
       "      <td>S</td>\n",
       "    </tr>\n",
       "    <tr>\n",
       "      <th>4</th>\n",
       "      <td>0</td>\n",
       "      <td>0</td>\n",
       "      <td>1</td>\n",
       "      <td>1</td>\n",
       "      <td>0</td>\n",
       "      <td>896</td>\n",
       "      <td>3</td>\n",
       "      <td>22.0</td>\n",
       "      <td>1.0</td>\n",
       "      <td>1.0</td>\n",
       "      <td>S</td>\n",
       "    </tr>\n",
       "  </tbody>\n",
       "</table>\n",
       "</div>"
      ],
      "text/plain": [
       "   C  Q  S  female  male  PassengerId  Pclass   Age  SibSp  Parch Embarked\n",
       "0  0  1  0       0     1          892       3  34.5    0.0    0.0        Q\n",
       "1  0  0  1       1     0          893       3  47.0    1.0    0.0        S\n",
       "2  0  1  0       0     1          894       2  62.0    0.0    0.0        Q\n",
       "3  0  0  1       0     1          895       3  27.0    0.0    0.0        S\n",
       "4  0  0  1       1     0          896       3  22.0    1.0    1.0        S"
      ]
     },
     "execution_count": 62,
     "metadata": {},
     "output_type": "execute_result"
    }
   ],
   "source": [
    "df2=pd.concat([dummies,df2],axis=1)\n",
    "df2.head()"
   ]
  },
  {
   "cell_type": "code",
   "execution_count": 63,
   "id": "2a856b0f",
   "metadata": {
    "execution": {
     "iopub.execute_input": "2022-12-30T08:28:50.230540Z",
     "iopub.status.busy": "2022-12-30T08:28:50.230128Z",
     "iopub.status.idle": "2022-12-30T08:28:50.236408Z",
     "shell.execute_reply": "2022-12-30T08:28:50.235530Z"
    },
    "papermill": {
     "duration": 0.033312,
     "end_time": "2022-12-30T08:28:50.238397",
     "exception": false,
     "start_time": "2022-12-30T08:28:50.205085",
     "status": "completed"
    },
    "tags": []
   },
   "outputs": [],
   "source": [
    "df2.drop(\"Embarked\",axis=1,inplace=True)"
   ]
  },
  {
   "cell_type": "code",
   "execution_count": 64,
   "id": "4e35fc30",
   "metadata": {
    "execution": {
     "iopub.execute_input": "2022-12-30T08:28:50.287619Z",
     "iopub.status.busy": "2022-12-30T08:28:50.287168Z",
     "iopub.status.idle": "2022-12-30T08:28:50.302375Z",
     "shell.execute_reply": "2022-12-30T08:28:50.301321Z"
    },
    "papermill": {
     "duration": 0.042551,
     "end_time": "2022-12-30T08:28:50.304792",
     "exception": false,
     "start_time": "2022-12-30T08:28:50.262241",
     "status": "completed"
    },
    "tags": []
   },
   "outputs": [
    {
     "data": {
      "text/html": [
       "<div>\n",
       "<style scoped>\n",
       "    .dataframe tbody tr th:only-of-type {\n",
       "        vertical-align: middle;\n",
       "    }\n",
       "\n",
       "    .dataframe tbody tr th {\n",
       "        vertical-align: top;\n",
       "    }\n",
       "\n",
       "    .dataframe thead th {\n",
       "        text-align: right;\n",
       "    }\n",
       "</style>\n",
       "<table border=\"1\" class=\"dataframe\">\n",
       "  <thead>\n",
       "    <tr style=\"text-align: right;\">\n",
       "      <th></th>\n",
       "      <th>C</th>\n",
       "      <th>Q</th>\n",
       "      <th>S</th>\n",
       "      <th>female</th>\n",
       "      <th>male</th>\n",
       "      <th>PassengerId</th>\n",
       "      <th>Pclass</th>\n",
       "      <th>Age</th>\n",
       "      <th>SibSp</th>\n",
       "      <th>Parch</th>\n",
       "    </tr>\n",
       "  </thead>\n",
       "  <tbody>\n",
       "    <tr>\n",
       "      <th>0</th>\n",
       "      <td>0</td>\n",
       "      <td>1</td>\n",
       "      <td>0</td>\n",
       "      <td>0</td>\n",
       "      <td>1</td>\n",
       "      <td>892</td>\n",
       "      <td>3</td>\n",
       "      <td>34.5</td>\n",
       "      <td>0.0</td>\n",
       "      <td>0.0</td>\n",
       "    </tr>\n",
       "    <tr>\n",
       "      <th>1</th>\n",
       "      <td>0</td>\n",
       "      <td>0</td>\n",
       "      <td>1</td>\n",
       "      <td>1</td>\n",
       "      <td>0</td>\n",
       "      <td>893</td>\n",
       "      <td>3</td>\n",
       "      <td>47.0</td>\n",
       "      <td>1.0</td>\n",
       "      <td>0.0</td>\n",
       "    </tr>\n",
       "    <tr>\n",
       "      <th>2</th>\n",
       "      <td>0</td>\n",
       "      <td>1</td>\n",
       "      <td>0</td>\n",
       "      <td>0</td>\n",
       "      <td>1</td>\n",
       "      <td>894</td>\n",
       "      <td>2</td>\n",
       "      <td>62.0</td>\n",
       "      <td>0.0</td>\n",
       "      <td>0.0</td>\n",
       "    </tr>\n",
       "    <tr>\n",
       "      <th>3</th>\n",
       "      <td>0</td>\n",
       "      <td>0</td>\n",
       "      <td>1</td>\n",
       "      <td>0</td>\n",
       "      <td>1</td>\n",
       "      <td>895</td>\n",
       "      <td>3</td>\n",
       "      <td>27.0</td>\n",
       "      <td>0.0</td>\n",
       "      <td>0.0</td>\n",
       "    </tr>\n",
       "    <tr>\n",
       "      <th>4</th>\n",
       "      <td>0</td>\n",
       "      <td>0</td>\n",
       "      <td>1</td>\n",
       "      <td>1</td>\n",
       "      <td>0</td>\n",
       "      <td>896</td>\n",
       "      <td>3</td>\n",
       "      <td>22.0</td>\n",
       "      <td>1.0</td>\n",
       "      <td>1.0</td>\n",
       "    </tr>\n",
       "  </tbody>\n",
       "</table>\n",
       "</div>"
      ],
      "text/plain": [
       "   C  Q  S  female  male  PassengerId  Pclass   Age  SibSp  Parch\n",
       "0  0  1  0       0     1          892       3  34.5    0.0    0.0\n",
       "1  0  0  1       1     0          893       3  47.0    1.0    0.0\n",
       "2  0  1  0       0     1          894       2  62.0    0.0    0.0\n",
       "3  0  0  1       0     1          895       3  27.0    0.0    0.0\n",
       "4  0  0  1       1     0          896       3  22.0    1.0    1.0"
      ]
     },
     "execution_count": 64,
     "metadata": {},
     "output_type": "execute_result"
    }
   ],
   "source": [
    "df2.head()"
   ]
  },
  {
   "cell_type": "code",
   "execution_count": 65,
   "id": "7f583d0c",
   "metadata": {
    "execution": {
     "iopub.execute_input": "2022-12-30T08:28:50.354340Z",
     "iopub.status.busy": "2022-12-30T08:28:50.353927Z",
     "iopub.status.idle": "2022-12-30T08:28:50.372029Z",
     "shell.execute_reply": "2022-12-30T08:28:50.371203Z"
    },
    "papermill": {
     "duration": 0.045299,
     "end_time": "2022-12-30T08:28:50.374077",
     "exception": false,
     "start_time": "2022-12-30T08:28:50.328778",
     "status": "completed"
    },
    "tags": []
   },
   "outputs": [
    {
     "data": {
      "text/html": [
       "<div>\n",
       "<style scoped>\n",
       "    .dataframe tbody tr th:only-of-type {\n",
       "        vertical-align: middle;\n",
       "    }\n",
       "\n",
       "    .dataframe tbody tr th {\n",
       "        vertical-align: top;\n",
       "    }\n",
       "\n",
       "    .dataframe thead th {\n",
       "        text-align: right;\n",
       "    }\n",
       "</style>\n",
       "<table border=\"1\" class=\"dataframe\">\n",
       "  <thead>\n",
       "    <tr style=\"text-align: right;\">\n",
       "      <th></th>\n",
       "      <th>C</th>\n",
       "      <th>Q</th>\n",
       "      <th>S</th>\n",
       "      <th>female</th>\n",
       "      <th>male</th>\n",
       "      <th>PassengerId</th>\n",
       "      <th>Pclass</th>\n",
       "      <th>Age</th>\n",
       "      <th>SibSp</th>\n",
       "      <th>Parch</th>\n",
       "    </tr>\n",
       "  </thead>\n",
       "  <tbody>\n",
       "    <tr>\n",
       "      <th>C</th>\n",
       "      <td>1.000000</td>\n",
       "      <td>-0.199786</td>\n",
       "      <td>-0.767375</td>\n",
       "      <td>0.033684</td>\n",
       "      <td>-0.033684</td>\n",
       "      <td>-0.027419</td>\n",
       "      <td>-0.318543</td>\n",
       "      <td>0.162147</td>\n",
       "      <td>0.039761</td>\n",
       "      <td>0.040100</td>\n",
       "    </tr>\n",
       "    <tr>\n",
       "      <th>Q</th>\n",
       "      <td>-0.199786</td>\n",
       "      <td>1.000000</td>\n",
       "      <td>-0.474962</td>\n",
       "      <td>0.115574</td>\n",
       "      <td>-0.115574</td>\n",
       "      <td>-0.035731</td>\n",
       "      <td>0.252608</td>\n",
       "      <td>-0.041310</td>\n",
       "      <td>-0.141611</td>\n",
       "      <td>-0.164888</td>\n",
       "    </tr>\n",
       "    <tr>\n",
       "      <th>S</th>\n",
       "      <td>-0.767375</td>\n",
       "      <td>-0.474962</td>\n",
       "      <td>1.000000</td>\n",
       "      <td>-0.105883</td>\n",
       "      <td>0.105883</td>\n",
       "      <td>0.048008</td>\n",
       "      <td>0.120783</td>\n",
       "      <td>-0.118594</td>\n",
       "      <td>0.056959</td>\n",
       "      <td>0.071887</td>\n",
       "    </tr>\n",
       "    <tr>\n",
       "      <th>female</th>\n",
       "      <td>0.033684</td>\n",
       "      <td>0.115574</td>\n",
       "      <td>-0.105883</td>\n",
       "      <td>1.000000</td>\n",
       "      <td>-1.000000</td>\n",
       "      <td>-0.023245</td>\n",
       "      <td>-0.108615</td>\n",
       "      <td>0.008035</td>\n",
       "      <td>0.140068</td>\n",
       "      <td>0.210501</td>\n",
       "    </tr>\n",
       "    <tr>\n",
       "      <th>male</th>\n",
       "      <td>-0.033684</td>\n",
       "      <td>-0.115574</td>\n",
       "      <td>0.105883</td>\n",
       "      <td>-1.000000</td>\n",
       "      <td>1.000000</td>\n",
       "      <td>0.023245</td>\n",
       "      <td>0.108615</td>\n",
       "      <td>-0.008035</td>\n",
       "      <td>-0.140068</td>\n",
       "      <td>-0.210501</td>\n",
       "    </tr>\n",
       "    <tr>\n",
       "      <th>PassengerId</th>\n",
       "      <td>-0.027419</td>\n",
       "      <td>-0.035731</td>\n",
       "      <td>0.048008</td>\n",
       "      <td>-0.023245</td>\n",
       "      <td>0.023245</td>\n",
       "      <td>1.000000</td>\n",
       "      <td>-0.026751</td>\n",
       "      <td>-0.031447</td>\n",
       "      <td>-0.005093</td>\n",
       "      <td>0.048247</td>\n",
       "    </tr>\n",
       "    <tr>\n",
       "      <th>Pclass</th>\n",
       "      <td>-0.318543</td>\n",
       "      <td>0.252608</td>\n",
       "      <td>0.120783</td>\n",
       "      <td>-0.108615</td>\n",
       "      <td>0.108615</td>\n",
       "      <td>-0.026751</td>\n",
       "      <td>1.000000</td>\n",
       "      <td>-0.467853</td>\n",
       "      <td>-0.083845</td>\n",
       "      <td>-0.021851</td>\n",
       "    </tr>\n",
       "    <tr>\n",
       "      <th>Age</th>\n",
       "      <td>0.162147</td>\n",
       "      <td>-0.041310</td>\n",
       "      <td>-0.118594</td>\n",
       "      <td>0.008035</td>\n",
       "      <td>-0.008035</td>\n",
       "      <td>-0.031447</td>\n",
       "      <td>-0.467853</td>\n",
       "      <td>1.000000</td>\n",
       "      <td>-0.009178</td>\n",
       "      <td>-0.091902</td>\n",
       "    </tr>\n",
       "    <tr>\n",
       "      <th>SibSp</th>\n",
       "      <td>0.039761</td>\n",
       "      <td>-0.141611</td>\n",
       "      <td>0.056959</td>\n",
       "      <td>0.140068</td>\n",
       "      <td>-0.140068</td>\n",
       "      <td>-0.005093</td>\n",
       "      <td>-0.083845</td>\n",
       "      <td>-0.009178</td>\n",
       "      <td>1.000000</td>\n",
       "      <td>0.415791</td>\n",
       "    </tr>\n",
       "    <tr>\n",
       "      <th>Parch</th>\n",
       "      <td>0.040100</td>\n",
       "      <td>-0.164888</td>\n",
       "      <td>0.071887</td>\n",
       "      <td>0.210501</td>\n",
       "      <td>-0.210501</td>\n",
       "      <td>0.048247</td>\n",
       "      <td>-0.021851</td>\n",
       "      <td>-0.091902</td>\n",
       "      <td>0.415791</td>\n",
       "      <td>1.000000</td>\n",
       "    </tr>\n",
       "  </tbody>\n",
       "</table>\n",
       "</div>"
      ],
      "text/plain": [
       "                    C         Q         S    female      male  PassengerId  \\\n",
       "C            1.000000 -0.199786 -0.767375  0.033684 -0.033684    -0.027419   \n",
       "Q           -0.199786  1.000000 -0.474962  0.115574 -0.115574    -0.035731   \n",
       "S           -0.767375 -0.474962  1.000000 -0.105883  0.105883     0.048008   \n",
       "female       0.033684  0.115574 -0.105883  1.000000 -1.000000    -0.023245   \n",
       "male        -0.033684 -0.115574  0.105883 -1.000000  1.000000     0.023245   \n",
       "PassengerId -0.027419 -0.035731  0.048008 -0.023245  0.023245     1.000000   \n",
       "Pclass      -0.318543  0.252608  0.120783 -0.108615  0.108615    -0.026751   \n",
       "Age          0.162147 -0.041310 -0.118594  0.008035 -0.008035    -0.031447   \n",
       "SibSp        0.039761 -0.141611  0.056959  0.140068 -0.140068    -0.005093   \n",
       "Parch        0.040100 -0.164888  0.071887  0.210501 -0.210501     0.048247   \n",
       "\n",
       "               Pclass       Age     SibSp     Parch  \n",
       "C           -0.318543  0.162147  0.039761  0.040100  \n",
       "Q            0.252608 -0.041310 -0.141611 -0.164888  \n",
       "S            0.120783 -0.118594  0.056959  0.071887  \n",
       "female      -0.108615  0.008035  0.140068  0.210501  \n",
       "male         0.108615 -0.008035 -0.140068 -0.210501  \n",
       "PassengerId -0.026751 -0.031447 -0.005093  0.048247  \n",
       "Pclass       1.000000 -0.467853 -0.083845 -0.021851  \n",
       "Age         -0.467853  1.000000 -0.009178 -0.091902  \n",
       "SibSp       -0.083845 -0.009178  1.000000  0.415791  \n",
       "Parch       -0.021851 -0.091902  0.415791  1.000000  "
      ]
     },
     "execution_count": 65,
     "metadata": {},
     "output_type": "execute_result"
    }
   ],
   "source": [
    "df2.corr()"
   ]
  },
  {
   "cell_type": "code",
   "execution_count": 66,
   "id": "2a0b338e",
   "metadata": {
    "execution": {
     "iopub.execute_input": "2022-12-30T08:28:50.425186Z",
     "iopub.status.busy": "2022-12-30T08:28:50.424014Z",
     "iopub.status.idle": "2022-12-30T08:28:50.430504Z",
     "shell.execute_reply": "2022-12-30T08:28:50.429729Z"
    },
    "papermill": {
     "duration": 0.03424,
     "end_time": "2022-12-30T08:28:50.432690",
     "exception": false,
     "start_time": "2022-12-30T08:28:50.398450",
     "status": "completed"
    },
    "tags": []
   },
   "outputs": [],
   "source": [
    "y_pred=model.predict(df2)"
   ]
  },
  {
   "cell_type": "code",
   "execution_count": 67,
   "id": "8abcc2d7",
   "metadata": {
    "execution": {
     "iopub.execute_input": "2022-12-30T08:28:50.485099Z",
     "iopub.status.busy": "2022-12-30T08:28:50.484012Z",
     "iopub.status.idle": "2022-12-30T08:28:50.491140Z",
     "shell.execute_reply": "2022-12-30T08:28:50.490377Z"
    },
    "papermill": {
     "duration": 0.034305,
     "end_time": "2022-12-30T08:28:50.493110",
     "exception": false,
     "start_time": "2022-12-30T08:28:50.458805",
     "status": "completed"
    },
    "tags": []
   },
   "outputs": [
    {
     "data": {
      "text/plain": [
       "array([0, 0, 0, 0, 1, 0, 1, 0, 1, 0, 0, 0, 1, 0, 1, 1, 0, 0, 1, 1, 0, 0,\n",
       "       1, 1, 1, 0, 1, 0, 0, 0, 0, 0, 0, 1, 1, 0, 1, 1, 0, 0, 0, 0, 0, 1,\n",
       "       1, 0, 0, 0, 1, 0, 1, 0, 1, 1, 0, 0, 0, 0, 0, 1, 0, 0, 0, 1, 1, 1,\n",
       "       1, 0, 1, 1, 1, 0, 1, 1, 1, 1, 0, 1, 0, 1, 0, 0, 0, 0, 0, 0, 1, 1,\n",
       "       1, 0, 1, 0, 1, 0, 1, 0, 1, 0, 1, 0, 1, 0, 0, 0, 1, 0, 0, 0, 0, 0,\n",
       "       0, 1, 1, 1, 1, 0, 0, 1, 1, 1, 1, 0, 1, 0, 0, 1, 0, 1, 0, 0, 0, 0,\n",
       "       0, 0, 0, 0, 0, 0, 1, 0, 1, 1, 0, 0, 0, 0, 0, 0, 0, 0, 1, 0, 0, 0,\n",
       "       0, 0, 1, 1, 0, 1, 1, 0, 1, 0, 0, 1, 0, 0, 1, 1, 0, 0, 0, 0, 0, 1,\n",
       "       1, 0, 1, 1, 0, 1, 1, 0, 1, 0, 1, 0, 1, 0, 0, 0, 0, 0, 0, 0, 1, 1,\n",
       "       0, 1, 1, 0, 0, 1, 0, 1, 1, 0, 1, 0, 0, 0, 0, 1, 0, 0, 1, 0, 1, 0,\n",
       "       1, 0, 1, 0, 1, 1, 0, 1, 0, 0, 0, 1, 0, 0, 1, 0, 0, 0, 1, 1, 1, 1,\n",
       "       0, 0, 0, 0, 1, 0, 1, 1, 1, 0, 1, 0, 0, 0, 0, 0, 1, 0, 0, 0, 1, 1,\n",
       "       0, 0, 1, 0, 1, 0, 0, 0, 1, 1, 0, 1, 0, 0, 0, 0, 1, 0, 1, 1, 1, 0,\n",
       "       0, 1, 0, 0, 1, 1, 0, 0, 0, 0, 1, 0, 0, 0, 0, 0, 0, 0, 1, 1, 0, 0,\n",
       "       0, 1, 0, 0, 0, 1, 1, 1, 0, 0, 0, 0, 0, 0, 0, 0, 1, 0, 1, 1, 0, 0,\n",
       "       1, 1, 0, 1, 0, 0, 0, 0, 0, 0, 0, 0, 0, 1, 0, 1, 0, 1, 0, 1, 1, 0,\n",
       "       0, 0, 1, 0, 1, 0, 0, 1, 0, 1, 1, 0, 1, 0, 0, 1, 1, 0, 0, 1, 0, 0,\n",
       "       1, 1, 1, 0, 0, 0, 0, 0, 1, 1, 0, 1, 0, 0, 0, 0, 1, 1, 0, 0, 0, 1,\n",
       "       0, 1, 0, 0, 1, 0, 1, 1, 1, 0, 0, 0, 1, 1, 1, 1, 1, 0, 1, 0, 0, 0])"
      ]
     },
     "execution_count": 67,
     "metadata": {},
     "output_type": "execute_result"
    }
   ],
   "source": [
    "y_pred"
   ]
  },
  {
   "cell_type": "code",
   "execution_count": 68,
   "id": "9d22578a",
   "metadata": {
    "execution": {
     "iopub.execute_input": "2022-12-30T08:28:50.543788Z",
     "iopub.status.busy": "2022-12-30T08:28:50.543126Z",
     "iopub.status.idle": "2022-12-30T08:28:50.562571Z",
     "shell.execute_reply": "2022-12-30T08:28:50.561353Z"
    },
    "papermill": {
     "duration": 0.047312,
     "end_time": "2022-12-30T08:28:50.564760",
     "exception": false,
     "start_time": "2022-12-30T08:28:50.517448",
     "status": "completed"
    },
    "tags": []
   },
   "outputs": [
    {
     "data": {
      "text/plain": [
       "array([[0.9198871 , 0.0801129 ],\n",
       "       [0.51515529, 0.48484471],\n",
       "       [0.90476484, 0.09523516],\n",
       "       [0.89223121, 0.10776879],\n",
       "       [0.39417016, 0.60582984],\n",
       "       [0.84777208, 0.15222792],\n",
       "       [0.42121367, 0.57878633],\n",
       "       [0.78323317, 0.21676683],\n",
       "       [0.20728298, 0.79271702],\n",
       "       [0.86632856, 0.13367144],\n",
       "       [0.89205978, 0.10794022],\n",
       "       [0.65410677, 0.34589323],\n",
       "       [0.06142471, 0.93857529],\n",
       "       [0.89457112, 0.10542888],\n",
       "       [0.1196244 , 0.8803756 ],\n",
       "       [0.09709896, 0.90290104],\n",
       "       [0.80616967, 0.19383033],\n",
       "       [0.79701095, 0.20298905],\n",
       "       [0.36518944, 0.63481056],\n",
       "       [0.37244792, 0.62755208],\n",
       "       [0.57602702, 0.42397298],\n",
       "       [0.86208204, 0.13791796],\n",
       "       [0.07146327, 0.92853673],\n",
       "       [0.3976427 , 0.6023573 ],\n",
       "       [0.11335386, 0.88664614],\n",
       "       [0.94080617, 0.05919383],\n",
       "       [0.04717333, 0.95282667],\n",
       "       [0.80390203, 0.19609797],\n",
       "       [0.61786779, 0.38213221],\n",
       "       [0.81560735, 0.18439265],\n",
       "       [0.85043104, 0.14956896],\n",
       "       [0.7166698 , 0.2833302 ],\n",
       "       [0.50268207, 0.49731793],\n",
       "       [0.45703295, 0.54296705],\n",
       "       [0.38731618, 0.61268382],\n",
       "       [0.78363596, 0.21636404],\n",
       "       [0.37410018, 0.62589982],\n",
       "       [0.33232497, 0.66767503],\n",
       "       [0.88533049, 0.11466951],\n",
       "       [0.89134701, 0.10865299],\n",
       "       [0.89862144, 0.10137856],\n",
       "       [0.51268297, 0.48731703],\n",
       "       [0.92623663, 0.07376337],\n",
       "       [0.18973604, 0.81026396],\n",
       "       [0.11259046, 0.88740954],\n",
       "       [0.88514949, 0.11485051],\n",
       "       [0.50951902, 0.49048098],\n",
       "       [0.90028481, 0.09971519],\n",
       "       [0.10664146, 0.89335854],\n",
       "       [0.53509472, 0.46490528],\n",
       "       [0.47857404, 0.52142596],\n",
       "       [0.6260173 , 0.3739827 ],\n",
       "       [0.17546853, 0.82453147],\n",
       "       [0.0969489 , 0.9030511 ],\n",
       "       [0.62583853, 0.37416147],\n",
       "       [0.86607642, 0.13392358],\n",
       "       [0.91245112, 0.08754888],\n",
       "       [0.88483864, 0.11516136],\n",
       "       [0.88664437, 0.11335563],\n",
       "       [0.0541983 , 0.9458017 ],\n",
       "       [0.85749254, 0.14250746],\n",
       "       [0.77287551, 0.22712449],\n",
       "       [0.86111362, 0.13888638],\n",
       "       [0.35985585, 0.64014415],\n",
       "       [0.35037605, 0.64962395],\n",
       "       [0.1752728 , 0.8247272 ],\n",
       "       [0.33212313, 0.66787687],\n",
       "       [0.6577647 , 0.3422353 ],\n",
       "       [0.40276076, 0.59723924],\n",
       "       [0.25534191, 0.74465809],\n",
       "       [0.37358931, 0.62641069],\n",
       "       [0.87143012, 0.12856988],\n",
       "       [0.38629645, 0.61370355],\n",
       "       [0.38428481, 0.61571519],\n",
       "       [0.05246775, 0.94753225],\n",
       "       [0.41336669, 0.58663331],\n",
       "       [0.89043163, 0.10956837],\n",
       "       [0.14355455, 0.85644545],\n",
       "       [0.76121834, 0.23878166],\n",
       "       [0.37305341, 0.62694659],\n",
       "       [0.75468846, 0.24531154],\n",
       "       [0.7713913 , 0.2286087 ],\n",
       "       [0.67050133, 0.32949867],\n",
       "       [0.89025769, 0.10974231],\n",
       "       [0.76211583, 0.23788417],\n",
       "       [0.81613101, 0.18386899],\n",
       "       [0.39423669, 0.60576331],\n",
       "       [0.30964114, 0.69035886],\n",
       "       [0.39411514, 0.60588486],\n",
       "       [0.63010559, 0.36989441],\n",
       "       [0.32661363, 0.67338637],\n",
       "       [0.8900586 , 0.1099414 ],\n",
       "       [0.09616057, 0.90383943],\n",
       "       [0.89000878, 0.10999122],\n",
       "       [0.35815996, 0.64184004],\n",
       "       [0.88384944, 0.11615056],\n",
       "       [0.24351796, 0.75648204],\n",
       "       [0.89573745, 0.10426255],\n",
       "       [0.32220108, 0.67779892],\n",
       "       [0.90653738, 0.09346262],\n",
       "       [0.06300787, 0.93699213],\n",
       "       [0.73483784, 0.26516216],\n",
       "       [0.89902109, 0.10097891],\n",
       "       [0.88673585, 0.11326415],\n",
       "       [0.23188008, 0.76811992],\n",
       "       [0.8926632 , 0.1073368 ],\n",
       "       [0.88107081, 0.11892919],\n",
       "       [0.8989055 , 0.1010945 ],\n",
       "       [0.8896345 , 0.1103655 ],\n",
       "       [0.69022624, 0.30977376],\n",
       "       [0.71638671, 0.28361329],\n",
       "       [0.39271818, 0.60728182],\n",
       "       [0.05351097, 0.94648903],\n",
       "       [0.3328485 , 0.6671515 ],\n",
       "       [0.17739977, 0.82260023],\n",
       "       [0.77004502, 0.22995498],\n",
       "       [0.82131561, 0.17868439],\n",
       "       [0.25006583, 0.74993417],\n",
       "       [0.43674206, 0.56325794],\n",
       "       [0.175903  , 0.824097  ],\n",
       "       [0.11715778, 0.88284222],\n",
       "       [0.89461131, 0.10538869],\n",
       "       [0.0497978 , 0.9502022 ],\n",
       "       [0.89222345, 0.10777655],\n",
       "       [0.89851163, 0.10148837],\n",
       "       [0.36121521, 0.63878479],\n",
       "       [0.87326336, 0.12673664],\n",
       "       [0.37741457, 0.62258543],\n",
       "       [0.8193839 , 0.1806161 ],\n",
       "       [0.87977326, 0.12022674],\n",
       "       [0.90323694, 0.09676306],\n",
       "       [0.56466979, 0.43533021],\n",
       "       [0.50114325, 0.49885675],\n",
       "       [0.81429067, 0.18570933],\n",
       "       [0.92875858, 0.07124142],\n",
       "       [0.87961164, 0.12038836],\n",
       "       [0.8183139 , 0.1816861 ],\n",
       "       [0.73546114, 0.26453886],\n",
       "       [0.34018454, 0.65981546],\n",
       "       [0.95681655, 0.04318345],\n",
       "       [0.31641406, 0.68358594],\n",
       "       [0.08226623, 0.91773377],\n",
       "       [0.71687963, 0.28312037],\n",
       "       [0.74685428, 0.25314572],\n",
       "       [0.61808909, 0.38191091],\n",
       "       [0.89333473, 0.10666527],\n",
       "       [0.50600438, 0.49399562],\n",
       "       [0.87267064, 0.12732936],\n",
       "       [0.50587714, 0.49412286],\n",
       "       [0.79743051, 0.20256949],\n",
       "       [0.04712397, 0.95287603],\n",
       "       [0.82000456, 0.17999544],\n",
       "       [0.95673836, 0.04326164],\n",
       "       [0.52850419, 0.47149581],\n",
       "       [0.87518843, 0.12481157],\n",
       "       [0.87907156, 0.12092844],\n",
       "       [0.07326334, 0.92673666],\n",
       "       [0.33909994, 0.66090006],\n",
       "       [0.61724762, 0.38275238],\n",
       "       [0.45214734, 0.54785266],\n",
       "       [0.38974791, 0.61025209],\n",
       "       [0.75650661, 0.24349339],\n",
       "       [0.16744307, 0.83255693],\n",
       "       [0.88825255, 0.11174745],\n",
       "       [0.81344545, 0.18655455],\n",
       "       [0.41363738, 0.58636262],\n",
       "       [0.52471045, 0.47528955],\n",
       "       [0.89299616, 0.10700384],\n",
       "       [0.04064926, 0.95935074],\n",
       "       [0.33162976, 0.66837024],\n",
       "       [0.88807559, 0.11192441],\n",
       "       [0.81925202, 0.18074798],\n",
       "       [0.87057524, 0.12942476],\n",
       "       [0.81917663, 0.18082337],\n",
       "       [0.95396524, 0.04603476],\n",
       "       [0.17396187, 0.82603813],\n",
       "       [0.14304962, 0.85695038],\n",
       "       [0.55874365, 0.44125635],\n",
       "       [0.3031201 , 0.6968799 ],\n",
       "       [0.1607609 , 0.8392391 ],\n",
       "       [0.75646767, 0.24353233],\n",
       "       [0.49726088, 0.50273912],\n",
       "       [0.05107066, 0.94892934],\n",
       "       [0.89713409, 0.10286591],\n",
       "       [0.05038626, 0.94961374],\n",
       "       [0.80795074, 0.19204926],\n",
       "       [0.18385632, 0.81614368],\n",
       "       [0.84576068, 0.15423932],\n",
       "       [0.42799277, 0.57200723],\n",
       "       [0.80779272, 0.19220728],\n",
       "       [0.77027854, 0.22972146],\n",
       "       [0.50314133, 0.49685867],\n",
       "       [0.86086551, 0.13913449],\n",
       "       [0.89772994, 0.10227006],\n",
       "       [0.69933561, 0.30066439],\n",
       "       [0.90444654, 0.09555346],\n",
       "       [0.30924589, 0.69075411],\n",
       "       [0.30368859, 0.69631141],\n",
       "       [0.71414485, 0.28585515],\n",
       "       [0.36443812, 0.63556188],\n",
       "       [0.38732925, 0.61267075],\n",
       "       [0.83690514, 0.16309486],\n",
       "       [0.50411833, 0.49588167],\n",
       "       [0.12635455, 0.87364545],\n",
       "       [0.72611416, 0.27388584],\n",
       "       [0.36570474, 0.63429526],\n",
       "       [0.44611253, 0.55388747],\n",
       "       [0.71986078, 0.28013922],\n",
       "       [0.04793946, 0.95206054],\n",
       "       [0.88083746, 0.11916254],\n",
       "       [0.9014427 , 0.0985573 ],\n",
       "       [0.88703416, 0.11296584],\n",
       "       [0.67464514, 0.32535486],\n",
       "       [0.34887597, 0.65112403],\n",
       "       [0.51846348, 0.48153652],\n",
       "       [0.61381443, 0.38618557],\n",
       "       [0.38636333, 0.61363667],\n",
       "       [0.75929072, 0.24070928],\n",
       "       [0.09583505, 0.90416495],\n",
       "       [0.88682997, 0.11317003],\n",
       "       [0.10916576, 0.89083424],\n",
       "       [0.86709176, 0.13290824],\n",
       "       [0.14918928, 0.85081072],\n",
       "       [0.86703309, 0.13296691],\n",
       "       [0.08443661, 0.91556339],\n",
       "       [0.32343603, 0.67656397],\n",
       "       [0.87381676, 0.12618324],\n",
       "       [0.38569977, 0.61430023],\n",
       "       [0.92184601, 0.07815399],\n",
       "       [0.78645801, 0.21354199],\n",
       "       [0.65323862, 0.34676138],\n",
       "       [0.05730326, 0.94269674],\n",
       "       [0.86174519, 0.13825481],\n",
       "       [0.89595375, 0.10404625],\n",
       "       [0.44143009, 0.55856991],\n",
       "       [0.86312146, 0.13687854],\n",
       "       [0.62847033, 0.37152967],\n",
       "       [0.7826645 , 0.2173355 ],\n",
       "       [0.16275386, 0.83724614],\n",
       "       [0.07027406, 0.92972594],\n",
       "       [0.08893662, 0.91106338],\n",
       "       [0.34056718, 0.65943282],\n",
       "       [0.55408935, 0.44591065],\n",
       "       [0.88621547, 0.11378453],\n",
       "       [0.91636932, 0.08363068],\n",
       "       [0.59446462, 0.40553538],\n",
       "       [0.1484156 , 0.8515844 ],\n",
       "       [0.8469534 , 0.1530466 ],\n",
       "       [0.1711941 , 0.8288059 ],\n",
       "       [0.23660311, 0.76339689],\n",
       "       [0.11419274, 0.88580726],\n",
       "       [0.86263964, 0.13736036],\n",
       "       [0.353092  , 0.646908  ],\n",
       "       [0.87639489, 0.12360511],\n",
       "       [0.90180033, 0.09819967],\n",
       "       [0.88590713, 0.11409287],\n",
       "       [0.89540679, 0.10459321],\n",
       "       [0.88889975, 0.11110025],\n",
       "       [0.13687164, 0.86312836],\n",
       "       [0.86597321, 0.13402679],\n",
       "       [0.90845236, 0.09154764],\n",
       "       [0.86591412, 0.13408588],\n",
       "       [0.23985197, 0.76014803],\n",
       "       [0.24316216, 0.75683784],\n",
       "       [0.63467838, 0.36532162],\n",
       "       [0.88564962, 0.11435038],\n",
       "       [0.49836922, 0.50163078],\n",
       "       [0.88559806, 0.11440194],\n",
       "       [0.36038022, 0.63961978],\n",
       "       [0.8508679 , 0.1491321 ],\n",
       "       [0.50288258, 0.49711742],\n",
       "       [0.8950487 , 0.1049513 ],\n",
       "       [0.03693249, 0.96306751],\n",
       "       [0.37286225, 0.62713775],\n",
       "       [0.81533761, 0.18466239],\n",
       "       [0.13491178, 0.86508822],\n",
       "       [0.74040109, 0.25959891],\n",
       "       [0.79746235, 0.20253765],\n",
       "       [0.74376738, 0.25623262],\n",
       "       [0.70360492, 0.29639508],\n",
       "       [0.33211979, 0.66788021],\n",
       "       [0.81342006, 0.18657994],\n",
       "       [0.38238842, 0.61761158],\n",
       "       [0.18900139, 0.81099861],\n",
       "       [0.2478142 , 0.7521858 ],\n",
       "       [0.91020286, 0.08979714],\n",
       "       [0.88510721, 0.11489279],\n",
       "       [0.46354569, 0.53645431],\n",
       "       [0.81480052, 0.18519948],\n",
       "       [0.88502954, 0.11497046],\n",
       "       [0.49684216, 0.50315784],\n",
       "       [0.40363787, 0.59636213],\n",
       "       [0.81464684, 0.18535316],\n",
       "       [0.73255157, 0.26744843],\n",
       "       [0.91001547, 0.08998453],\n",
       "       [0.88173436, 0.11826564],\n",
       "       [0.06801598, 0.93198402],\n",
       "       [0.80512756, 0.19487244],\n",
       "       [0.51916956, 0.48083044],\n",
       "       [0.89083736, 0.10916264],\n",
       "       [0.89938882, 0.10061118],\n",
       "       [0.61100524, 0.38899476],\n",
       "       [0.85448142, 0.14551858],\n",
       "       [0.87500973, 0.12499027],\n",
       "       [0.38106692, 0.61893308],\n",
       "       [0.21748568, 0.78251432],\n",
       "       [0.60259509, 0.39740491],\n",
       "       [0.81921415, 0.18078585],\n",
       "       [0.74358991, 0.25641009],\n",
       "       [0.48034182, 0.51965818],\n",
       "       [0.85339123, 0.14660877],\n",
       "       [0.78973854, 0.21026146],\n",
       "       [0.88443256, 0.11556744],\n",
       "       [0.45445135, 0.54554865],\n",
       "       [0.08742232, 0.91257768],\n",
       "       [0.31164638, 0.68835362],\n",
       "       [0.57250299, 0.42749701],\n",
       "       [0.68210634, 0.31789366],\n",
       "       [0.88427638, 0.11572362],\n",
       "       [0.68864228, 0.31135772],\n",
       "       [0.88106923, 0.11893077],\n",
       "       [0.80411089, 0.19588911],\n",
       "       [0.72619934, 0.27380066],\n",
       "       [0.54034621, 0.45965379],\n",
       "       [0.09315085, 0.90684915],\n",
       "       [0.87101225, 0.12898775],\n",
       "       [0.13461191, 0.86538809],\n",
       "       [0.49925577, 0.50074423],\n",
       "       [0.73545066, 0.26454934],\n",
       "       [0.69452003, 0.30547997],\n",
       "       [0.35616783, 0.64383217],\n",
       "       [0.44590675, 0.55409325],\n",
       "       [0.81310467, 0.18689533],\n",
       "       [0.23782773, 0.76217227],\n",
       "       [0.88385901, 0.11614099],\n",
       "       [0.51681835, 0.48318165],\n",
       "       [0.76035523, 0.23964477],\n",
       "       [0.90194346, 0.09805654],\n",
       "       [0.71927956, 0.28072044],\n",
       "       [0.81283378, 0.18716622],\n",
       "       [0.67418034, 0.32581966],\n",
       "       [0.89844061, 0.10155939],\n",
       "       [0.94268346, 0.05731654],\n",
       "       [0.12029036, 0.87970964],\n",
       "       [0.90516332, 0.09483668],\n",
       "       [0.28325252, 0.71674748],\n",
       "       [0.72498312, 0.27501688],\n",
       "       [0.3060952 , 0.6939048 ],\n",
       "       [0.71256707, 0.28743293],\n",
       "       [0.18255282, 0.81744718],\n",
       "       [0.08413393, 0.91586607],\n",
       "       [0.718611  , 0.281389  ],\n",
       "       [0.6735091 , 0.3264909 ],\n",
       "       [0.8818171 , 0.1181829 ],\n",
       "       [0.25516246, 0.74483754],\n",
       "       [0.66182371, 0.33817629],\n",
       "       [0.14991847, 0.85008153],\n",
       "       [0.88325674, 0.11674326],\n",
       "       [0.89295041, 0.10704959],\n",
       "       [0.36625506, 0.63374494],\n",
       "       [0.87050355, 0.12949645],\n",
       "       [0.11444624, 0.88555376],\n",
       "       [0.18205959, 0.81794041],\n",
       "       [0.88309919, 0.11690081],\n",
       "       [0.03506327, 0.96493673],\n",
       "       [0.5434607 , 0.4565393 ],\n",
       "       [0.80515535, 0.19484465],\n",
       "       [0.32055616, 0.67944384],\n",
       "       [0.08378159, 0.91621841],\n",
       "       [0.62132006, 0.37867994],\n",
       "       [0.6831047 , 0.3168953 ],\n",
       "       [0.04347595, 0.95652405],\n",
       "       [0.65399443, 0.34600557],\n",
       "       [0.81917159, 0.18082841],\n",
       "       [0.16762517, 0.83237483],\n",
       "       [0.06503037, 0.93496963],\n",
       "       [0.30702359, 0.69297641],\n",
       "       [0.69192196, 0.30807804],\n",
       "       [0.69378696, 0.30621304],\n",
       "       [0.83844168, 0.16155832],\n",
       "       [0.892414  , 0.107586  ],\n",
       "       [0.8894292 , 0.1105708 ],\n",
       "       [0.35371959, 0.64628041],\n",
       "       [0.29121347, 0.70878653],\n",
       "       [0.72910875, 0.27089125],\n",
       "       [0.20102066, 0.79897934],\n",
       "       [0.872681  , 0.127319  ],\n",
       "       [0.87025068, 0.12974932],\n",
       "       [0.87334197, 0.12665803],\n",
       "       [0.82827791, 0.17172209],\n",
       "       [0.46010307, 0.53989693],\n",
       "       [0.16037537, 0.83962463],\n",
       "       [0.87790183, 0.12209817],\n",
       "       [0.83160403, 0.16839597],\n",
       "       [0.90659963, 0.09340037],\n",
       "       [0.04850646, 0.95149354],\n",
       "       [0.88290002, 0.11709998],\n",
       "       [0.08699713, 0.91300287],\n",
       "       [0.86540156, 0.13459844],\n",
       "       [0.90314328, 0.09685672],\n",
       "       [0.07114388, 0.92885612],\n",
       "       [0.78211368, 0.21788632],\n",
       "       [0.04305358, 0.95694642],\n",
       "       [0.41435191, 0.58564809],\n",
       "       [0.46088433, 0.53911567],\n",
       "       [0.5527633 , 0.4472367 ],\n",
       "       [0.69420163, 0.30579837],\n",
       "       [0.58115539, 0.41884461],\n",
       "       [0.37484389, 0.62515611],\n",
       "       [0.24756204, 0.75243796],\n",
       "       [0.37472461, 0.62527539],\n",
       "       [0.09080945, 0.90919055],\n",
       "       [0.35895485, 0.64104515],\n",
       "       [0.88177902, 0.11822098],\n",
       "       [0.05425115, 0.94574885],\n",
       "       [0.91366117, 0.08633883],\n",
       "       [0.88169941, 0.11830059],\n",
       "       [0.84259827, 0.15740173]])"
      ]
     },
     "execution_count": 68,
     "metadata": {},
     "output_type": "execute_result"
    }
   ],
   "source": [
    "model.predict_proba(df2)"
   ]
  },
  {
   "cell_type": "code",
   "execution_count": 69,
   "id": "e292d45e",
   "metadata": {
    "execution": {
     "iopub.execute_input": "2022-12-30T08:28:50.616470Z",
     "iopub.status.busy": "2022-12-30T08:28:50.615410Z",
     "iopub.status.idle": "2022-12-30T08:28:50.624252Z",
     "shell.execute_reply": "2022-12-30T08:28:50.623417Z"
    },
    "papermill": {
     "duration": 0.036904,
     "end_time": "2022-12-30T08:28:50.626540",
     "exception": false,
     "start_time": "2022-12-30T08:28:50.589636",
     "status": "completed"
    },
    "tags": []
   },
   "outputs": [
    {
     "data": {
      "text/plain": [
       "1.0"
      ]
     },
     "execution_count": 69,
     "metadata": {},
     "output_type": "execute_result"
    }
   ],
   "source": [
    "model.score(df2,y_pred)"
   ]
  },
  {
   "cell_type": "code",
   "execution_count": 70,
   "id": "7062f992",
   "metadata": {
    "execution": {
     "iopub.execute_input": "2022-12-30T08:28:50.679717Z",
     "iopub.status.busy": "2022-12-30T08:28:50.678942Z",
     "iopub.status.idle": "2022-12-30T08:28:50.684086Z",
     "shell.execute_reply": "2022-12-30T08:28:50.683146Z"
    },
    "papermill": {
     "duration": 0.033991,
     "end_time": "2022-12-30T08:28:50.686425",
     "exception": false,
     "start_time": "2022-12-30T08:28:50.652434",
     "status": "completed"
    },
    "tags": []
   },
   "outputs": [],
   "source": [
    "a=df1.PassengerId"
   ]
  },
  {
   "cell_type": "code",
   "execution_count": 71,
   "id": "09841eb8",
   "metadata": {
    "execution": {
     "iopub.execute_input": "2022-12-30T08:28:50.739665Z",
     "iopub.status.busy": "2022-12-30T08:28:50.739253Z",
     "iopub.status.idle": "2022-12-30T08:28:50.746973Z",
     "shell.execute_reply": "2022-12-30T08:28:50.745705Z"
    },
    "papermill": {
     "duration": 0.037242,
     "end_time": "2022-12-30T08:28:50.749229",
     "exception": false,
     "start_time": "2022-12-30T08:28:50.711987",
     "status": "completed"
    },
    "tags": []
   },
   "outputs": [
    {
     "data": {
      "text/plain": [
       "0    1\n",
       "1    2\n",
       "2    3\n",
       "3    4\n",
       "4    5\n",
       "Name: PassengerId, dtype: int64"
      ]
     },
     "execution_count": 71,
     "metadata": {},
     "output_type": "execute_result"
    }
   ],
   "source": [
    "a.head()"
   ]
  },
  {
   "cell_type": "code",
   "execution_count": 72,
   "id": "6945746e",
   "metadata": {
    "execution": {
     "iopub.execute_input": "2022-12-30T08:28:50.802251Z",
     "iopub.status.busy": "2022-12-30T08:28:50.801856Z",
     "iopub.status.idle": "2022-12-30T08:28:50.807132Z",
     "shell.execute_reply": "2022-12-30T08:28:50.805999Z"
    },
    "papermill": {
     "duration": 0.034375,
     "end_time": "2022-12-30T08:28:50.809492",
     "exception": false,
     "start_time": "2022-12-30T08:28:50.775117",
     "status": "completed"
    },
    "tags": []
   },
   "outputs": [],
   "source": [
    "x=pd.DataFrame(a)"
   ]
  },
  {
   "cell_type": "code",
   "execution_count": 73,
   "id": "3163cdf4",
   "metadata": {
    "execution": {
     "iopub.execute_input": "2022-12-30T08:28:50.862114Z",
     "iopub.status.busy": "2022-12-30T08:28:50.861736Z",
     "iopub.status.idle": "2022-12-30T08:28:50.872555Z",
     "shell.execute_reply": "2022-12-30T08:28:50.871407Z"
    },
    "papermill": {
     "duration": 0.039886,
     "end_time": "2022-12-30T08:28:50.874956",
     "exception": false,
     "start_time": "2022-12-30T08:28:50.835070",
     "status": "completed"
    },
    "tags": []
   },
   "outputs": [
    {
     "data": {
      "text/html": [
       "<div>\n",
       "<style scoped>\n",
       "    .dataframe tbody tr th:only-of-type {\n",
       "        vertical-align: middle;\n",
       "    }\n",
       "\n",
       "    .dataframe tbody tr th {\n",
       "        vertical-align: top;\n",
       "    }\n",
       "\n",
       "    .dataframe thead th {\n",
       "        text-align: right;\n",
       "    }\n",
       "</style>\n",
       "<table border=\"1\" class=\"dataframe\">\n",
       "  <thead>\n",
       "    <tr style=\"text-align: right;\">\n",
       "      <th></th>\n",
       "      <th>PassengerId</th>\n",
       "    </tr>\n",
       "  </thead>\n",
       "  <tbody>\n",
       "    <tr>\n",
       "      <th>0</th>\n",
       "      <td>1</td>\n",
       "    </tr>\n",
       "    <tr>\n",
       "      <th>1</th>\n",
       "      <td>2</td>\n",
       "    </tr>\n",
       "    <tr>\n",
       "      <th>2</th>\n",
       "      <td>3</td>\n",
       "    </tr>\n",
       "    <tr>\n",
       "      <th>3</th>\n",
       "      <td>4</td>\n",
       "    </tr>\n",
       "    <tr>\n",
       "      <th>4</th>\n",
       "      <td>5</td>\n",
       "    </tr>\n",
       "    <tr>\n",
       "      <th>...</th>\n",
       "      <td>...</td>\n",
       "    </tr>\n",
       "    <tr>\n",
       "      <th>886</th>\n",
       "      <td>887</td>\n",
       "    </tr>\n",
       "    <tr>\n",
       "      <th>887</th>\n",
       "      <td>888</td>\n",
       "    </tr>\n",
       "    <tr>\n",
       "      <th>888</th>\n",
       "      <td>889</td>\n",
       "    </tr>\n",
       "    <tr>\n",
       "      <th>889</th>\n",
       "      <td>890</td>\n",
       "    </tr>\n",
       "    <tr>\n",
       "      <th>890</th>\n",
       "      <td>891</td>\n",
       "    </tr>\n",
       "  </tbody>\n",
       "</table>\n",
       "<p>891 rows × 1 columns</p>\n",
       "</div>"
      ],
      "text/plain": [
       "     PassengerId\n",
       "0              1\n",
       "1              2\n",
       "2              3\n",
       "3              4\n",
       "4              5\n",
       "..           ...\n",
       "886          887\n",
       "887          888\n",
       "888          889\n",
       "889          890\n",
       "890          891\n",
       "\n",
       "[891 rows x 1 columns]"
      ]
     },
     "execution_count": 73,
     "metadata": {},
     "output_type": "execute_result"
    }
   ],
   "source": [
    "x"
   ]
  },
  {
   "cell_type": "code",
   "execution_count": 74,
   "id": "58409eda",
   "metadata": {
    "execution": {
     "iopub.execute_input": "2022-12-30T08:28:50.929232Z",
     "iopub.status.busy": "2022-12-30T08:28:50.928846Z",
     "iopub.status.idle": "2022-12-30T08:28:50.939630Z",
     "shell.execute_reply": "2022-12-30T08:28:50.938546Z"
    },
    "papermill": {
     "duration": 0.040962,
     "end_time": "2022-12-30T08:28:50.942096",
     "exception": false,
     "start_time": "2022-12-30T08:28:50.901134",
     "status": "completed"
    },
    "tags": []
   },
   "outputs": [
    {
     "data": {
      "text/html": [
       "<div>\n",
       "<style scoped>\n",
       "    .dataframe tbody tr th:only-of-type {\n",
       "        vertical-align: middle;\n",
       "    }\n",
       "\n",
       "    .dataframe tbody tr th {\n",
       "        vertical-align: top;\n",
       "    }\n",
       "\n",
       "    .dataframe thead th {\n",
       "        text-align: right;\n",
       "    }\n",
       "</style>\n",
       "<table border=\"1\" class=\"dataframe\">\n",
       "  <thead>\n",
       "    <tr style=\"text-align: right;\">\n",
       "      <th></th>\n",
       "      <th>0</th>\n",
       "    </tr>\n",
       "  </thead>\n",
       "  <tbody>\n",
       "    <tr>\n",
       "      <th>0</th>\n",
       "      <td>0</td>\n",
       "    </tr>\n",
       "    <tr>\n",
       "      <th>1</th>\n",
       "      <td>0</td>\n",
       "    </tr>\n",
       "    <tr>\n",
       "      <th>2</th>\n",
       "      <td>0</td>\n",
       "    </tr>\n",
       "    <tr>\n",
       "      <th>3</th>\n",
       "      <td>0</td>\n",
       "    </tr>\n",
       "    <tr>\n",
       "      <th>4</th>\n",
       "      <td>1</td>\n",
       "    </tr>\n",
       "    <tr>\n",
       "      <th>...</th>\n",
       "      <td>...</td>\n",
       "    </tr>\n",
       "    <tr>\n",
       "      <th>413</th>\n",
       "      <td>0</td>\n",
       "    </tr>\n",
       "    <tr>\n",
       "      <th>414</th>\n",
       "      <td>1</td>\n",
       "    </tr>\n",
       "    <tr>\n",
       "      <th>415</th>\n",
       "      <td>0</td>\n",
       "    </tr>\n",
       "    <tr>\n",
       "      <th>416</th>\n",
       "      <td>0</td>\n",
       "    </tr>\n",
       "    <tr>\n",
       "      <th>417</th>\n",
       "      <td>0</td>\n",
       "    </tr>\n",
       "  </tbody>\n",
       "</table>\n",
       "<p>418 rows × 1 columns</p>\n",
       "</div>"
      ],
      "text/plain": [
       "     0\n",
       "0    0\n",
       "1    0\n",
       "2    0\n",
       "3    0\n",
       "4    1\n",
       "..  ..\n",
       "413  0\n",
       "414  1\n",
       "415  0\n",
       "416  0\n",
       "417  0\n",
       "\n",
       "[418 rows x 1 columns]"
      ]
     },
     "execution_count": 74,
     "metadata": {},
     "output_type": "execute_result"
    }
   ],
   "source": [
    "y=pd.DataFrame(y_pred)\n",
    "y"
   ]
  },
  {
   "cell_type": "code",
   "execution_count": 75,
   "id": "835e9fc2",
   "metadata": {
    "execution": {
     "iopub.execute_input": "2022-12-30T08:28:50.996774Z",
     "iopub.status.busy": "2022-12-30T08:28:50.996055Z",
     "iopub.status.idle": "2022-12-30T08:28:51.002625Z",
     "shell.execute_reply": "2022-12-30T08:28:51.001463Z"
    },
    "papermill": {
     "duration": 0.036038,
     "end_time": "2022-12-30T08:28:51.004933",
     "exception": false,
     "start_time": "2022-12-30T08:28:50.968895",
     "status": "completed"
    },
    "tags": []
   },
   "outputs": [],
   "source": [
    "final=pd.concat([x,y],axis=1)"
   ]
  },
  {
   "cell_type": "code",
   "execution_count": 76,
   "id": "2be65d8a",
   "metadata": {
    "execution": {
     "iopub.execute_input": "2022-12-30T08:28:51.059527Z",
     "iopub.status.busy": "2022-12-30T08:28:51.058730Z",
     "iopub.status.idle": "2022-12-30T08:28:51.071761Z",
     "shell.execute_reply": "2022-12-30T08:28:51.070966Z"
    },
    "papermill": {
     "duration": 0.0425,
     "end_time": "2022-12-30T08:28:51.073738",
     "exception": false,
     "start_time": "2022-12-30T08:28:51.031238",
     "status": "completed"
    },
    "tags": []
   },
   "outputs": [
    {
     "data": {
      "text/html": [
       "<div>\n",
       "<style scoped>\n",
       "    .dataframe tbody tr th:only-of-type {\n",
       "        vertical-align: middle;\n",
       "    }\n",
       "\n",
       "    .dataframe tbody tr th {\n",
       "        vertical-align: top;\n",
       "    }\n",
       "\n",
       "    .dataframe thead th {\n",
       "        text-align: right;\n",
       "    }\n",
       "</style>\n",
       "<table border=\"1\" class=\"dataframe\">\n",
       "  <thead>\n",
       "    <tr style=\"text-align: right;\">\n",
       "      <th></th>\n",
       "      <th>PassengerId</th>\n",
       "      <th>0</th>\n",
       "    </tr>\n",
       "  </thead>\n",
       "  <tbody>\n",
       "    <tr>\n",
       "      <th>0</th>\n",
       "      <td>1</td>\n",
       "      <td>0.0</td>\n",
       "    </tr>\n",
       "    <tr>\n",
       "      <th>1</th>\n",
       "      <td>2</td>\n",
       "      <td>0.0</td>\n",
       "    </tr>\n",
       "    <tr>\n",
       "      <th>2</th>\n",
       "      <td>3</td>\n",
       "      <td>0.0</td>\n",
       "    </tr>\n",
       "    <tr>\n",
       "      <th>3</th>\n",
       "      <td>4</td>\n",
       "      <td>0.0</td>\n",
       "    </tr>\n",
       "    <tr>\n",
       "      <th>4</th>\n",
       "      <td>5</td>\n",
       "      <td>1.0</td>\n",
       "    </tr>\n",
       "    <tr>\n",
       "      <th>...</th>\n",
       "      <td>...</td>\n",
       "      <td>...</td>\n",
       "    </tr>\n",
       "    <tr>\n",
       "      <th>886</th>\n",
       "      <td>887</td>\n",
       "      <td>NaN</td>\n",
       "    </tr>\n",
       "    <tr>\n",
       "      <th>887</th>\n",
       "      <td>888</td>\n",
       "      <td>NaN</td>\n",
       "    </tr>\n",
       "    <tr>\n",
       "      <th>888</th>\n",
       "      <td>889</td>\n",
       "      <td>NaN</td>\n",
       "    </tr>\n",
       "    <tr>\n",
       "      <th>889</th>\n",
       "      <td>890</td>\n",
       "      <td>NaN</td>\n",
       "    </tr>\n",
       "    <tr>\n",
       "      <th>890</th>\n",
       "      <td>891</td>\n",
       "      <td>NaN</td>\n",
       "    </tr>\n",
       "  </tbody>\n",
       "</table>\n",
       "<p>891 rows × 2 columns</p>\n",
       "</div>"
      ],
      "text/plain": [
       "     PassengerId    0\n",
       "0              1  0.0\n",
       "1              2  0.0\n",
       "2              3  0.0\n",
       "3              4  0.0\n",
       "4              5  1.0\n",
       "..           ...  ...\n",
       "886          887  NaN\n",
       "887          888  NaN\n",
       "888          889  NaN\n",
       "889          890  NaN\n",
       "890          891  NaN\n",
       "\n",
       "[891 rows x 2 columns]"
      ]
     },
     "execution_count": 76,
     "metadata": {},
     "output_type": "execute_result"
    }
   ],
   "source": [
    "final"
   ]
  },
  {
   "cell_type": "code",
   "execution_count": 77,
   "id": "e43a6ccd",
   "metadata": {
    "execution": {
     "iopub.execute_input": "2022-12-30T08:28:51.127765Z",
     "iopub.status.busy": "2022-12-30T08:28:51.127346Z",
     "iopub.status.idle": "2022-12-30T08:28:51.136077Z",
     "shell.execute_reply": "2022-12-30T08:28:51.134952Z"
    },
    "papermill": {
     "duration": 0.038326,
     "end_time": "2022-12-30T08:28:51.138451",
     "exception": false,
     "start_time": "2022-12-30T08:28:51.100125",
     "status": "completed"
    },
    "tags": []
   },
   "outputs": [],
   "source": [
    "final.to_csv(\"titanic\",index=False)"
   ]
  }
 ],
 "metadata": {
  "kernelspec": {
   "display_name": "Python 3",
   "language": "python",
   "name": "python3"
  },
  "language_info": {
   "codemirror_mode": {
    "name": "ipython",
    "version": 3
   },
   "file_extension": ".py",
   "mimetype": "text/x-python",
   "name": "python",
   "nbconvert_exporter": "python",
   "pygments_lexer": "ipython3",
   "version": "3.7.12"
  },
  "papermill": {
   "default_parameters": {},
   "duration": 14.978812,
   "end_time": "2022-12-30T08:28:51.887130",
   "environment_variables": {},
   "exception": null,
   "input_path": "__notebook__.ipynb",
   "output_path": "__notebook__.ipynb",
   "parameters": {},
   "start_time": "2022-12-30T08:28:36.908318",
   "version": "2.3.4"
  }
 },
 "nbformat": 4,
 "nbformat_minor": 5
}
